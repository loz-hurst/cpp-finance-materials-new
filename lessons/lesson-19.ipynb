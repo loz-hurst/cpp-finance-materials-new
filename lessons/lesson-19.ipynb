{
 "cells": [
  {
   "cell_type": "markdown",
   "metadata": {},
   "source": [
    "# Lesson 19 - Raw pointers"
   ]
  },
  {
   "cell_type": "code",
   "execution_count": null,
   "metadata": {},
   "outputs": [],
   "source": [
    "#include <iostream>"
   ]
  },
  {
   "cell_type": "markdown",
   "metadata": {},
   "source": [
    "## Variables have a location in memory.  Pointers store that."
   ]
  },
  {
   "cell_type": "code",
   "execution_count": null,
   "metadata": {},
   "outputs": [],
   "source": [
    "int a {5};"
   ]
  },
  {
   "cell_type": "code",
   "execution_count": null,
   "metadata": {},
   "outputs": [],
   "source": [
    "std::cout << &a << std::endl;"
   ]
  },
  {
   "cell_type": "markdown",
   "metadata": {},
   "source": [
    "References are just aliases to (another label for) the same location:"
   ]
  },
  {
   "cell_type": "code",
   "execution_count": null,
   "metadata": {},
   "outputs": [],
   "source": [
    "int & a_ref {a};"
   ]
  },
  {
   "cell_type": "code",
   "execution_count": null,
   "metadata": {},
   "outputs": [],
   "source": [
    "std::cout << &a_ref << std::endl;"
   ]
  },
  {
   "cell_type": "markdown",
   "metadata": {},
   "source": [
    "Pointers are variables in their own right:"
   ]
  },
  {
   "cell_type": "code",
   "execution_count": null,
   "metadata": {},
   "outputs": [],
   "source": [
    "int * a_ptr {&a};"
   ]
  },
  {
   "cell_type": "markdown",
   "metadata": {},
   "source": [
    "...with their own location:"
   ]
  },
  {
   "cell_type": "code",
   "execution_count": null,
   "metadata": {},
   "outputs": [],
   "source": [
    "std::cout << &a_ptr << std::endl;"
   ]
  },
  {
   "cell_type": "markdown",
   "metadata": {},
   "source": [
    "...their value is the location of the thing they point to:"
   ]
  },
  {
   "cell_type": "code",
   "execution_count": null,
   "metadata": {},
   "outputs": [],
   "source": [
    "std::cout << a_ptr << std::endl;"
   ]
  },
  {
   "cell_type": "markdown",
   "metadata": {},
   "source": [
    "We can get the value they point to by de-referencing it:"
   ]
  },
  {
   "cell_type": "code",
   "execution_count": null,
   "metadata": {},
   "outputs": [],
   "source": [
    "std::cout << *a_ptr << std::endl;"
   ]
  },
  {
   "cell_type": "code",
   "execution_count": null,
   "metadata": {},
   "outputs": [],
   "source": [
    "std::cout << &(*a_ptr) << std::endl;"
   ]
  },
  {
   "cell_type": "markdown",
   "metadata": {},
   "source": [
    "Unless initialising to a location, always initialise your pointers to the nullptr:"
   ]
  },
  {
   "cell_type": "code",
   "execution_count": null,
   "metadata": {},
   "outputs": [],
   "source": [
    "int * null_ptr {nullptr};"
   ]
  },
  {
   "cell_type": "markdown",
   "metadata": {},
   "source": [
    "Like with references you can do silly things if you are not careful:"
   ]
  },
  {
   "cell_type": "code",
   "execution_count": null,
   "metadata": {},
   "outputs": [],
   "source": [
    "int * my_function() {\n",
    "    int val {5};\n",
    "    int * val_ptr {&val};\n",
    "    std::cout << val_ptr << std::endl;\n",
    "    std::cout << *val_ptr << std::endl;\n",
    "    return val_ptr;\n",
    "}"
   ]
  },
  {
   "cell_type": "code",
   "execution_count": null,
   "metadata": {},
   "outputs": [],
   "source": [
    "int * my_ptr {my_function()};"
   ]
  },
  {
   "cell_type": "code",
   "execution_count": null,
   "metadata": {},
   "outputs": [],
   "source": [
    "std::cout << my_ptr << std::endl;"
   ]
  },
  {
   "cell_type": "code",
   "execution_count": null,
   "metadata": {},
   "outputs": [],
   "source": [
    "std::cout << *my_ptr << std::endl;"
   ]
  },
  {
   "cell_type": "markdown",
   "metadata": {},
   "source": [
    "Pointers can point to pointers:"
   ]
  },
  {
   "cell_type": "code",
   "execution_count": null,
   "metadata": {},
   "outputs": [],
   "source": [
    "int ** my_ptr_ptr {&a_ptr};"
   ]
  },
  {
   "cell_type": "code",
   "execution_count": null,
   "metadata": {},
   "outputs": [],
   "source": [
    "std::cout << my_ptr_ptr << std::endl;"
   ]
  },
  {
   "cell_type": "code",
   "execution_count": null,
   "metadata": {},
   "outputs": [],
   "source": [
    "std::cout << *my_ptr_ptr << std::endl;"
   ]
  },
  {
   "cell_type": "code",
   "execution_count": null,
   "metadata": {},
   "outputs": [],
   "source": [
    "std::cout << **my_ptr_ptr << std::endl;"
   ]
  },
  {
   "cell_type": "markdown",
   "metadata": {},
   "source": [
    "## Pointer arithmetic"
   ]
  },
  {
   "cell_type": "code",
   "execution_count": null,
   "metadata": {},
   "outputs": [],
   "source": [
    "int an_int {0};\n",
    "double a_double {0};"
   ]
  },
  {
   "cell_type": "code",
   "execution_count": null,
   "metadata": {},
   "outputs": [],
   "source": [
    "int * an_int_ptr {&an_int};\n",
    "double * a_double_ptr {&a_double};"
   ]
  },
  {
   "cell_type": "code",
   "execution_count": null,
   "metadata": {},
   "outputs": [],
   "source": [
    "std::cout << an_int_ptr << std::endl;\n",
    "std::cout << a_double_ptr << std::endl;"
   ]
  },
  {
   "cell_type": "code",
   "execution_count": null,
   "metadata": {},
   "outputs": [],
   "source": [
    "std::cout << an_int_ptr+1 << std::endl;\n",
    "std::cout << a_double_ptr+1 << std::endl;"
   ]
  },
  {
   "cell_type": "code",
   "execution_count": null,
   "metadata": {},
   "outputs": [],
   "source": [
    "std::cout << sizeof(int) << std::endl;\n",
    "std::cout << sizeof(double) << std::endl;"
   ]
  },
  {
   "cell_type": "code",
   "execution_count": null,
   "metadata": {},
   "outputs": [],
   "source": [
    "++an_int_ptr;"
   ]
  },
  {
   "cell_type": "code",
   "execution_count": null,
   "metadata": {},
   "outputs": [],
   "source": [
    "std::cout << an_int_ptr << std::endl;"
   ]
  },
  {
   "cell_type": "markdown",
   "metadata": {},
   "source": [
    "**BEWARE** There are no checks to stop you changing a pointer pointing to memory you cannot access"
   ]
  },
  {
   "cell_type": "markdown",
   "metadata": {},
   "source": [
    "## Pointers and objects"
   ]
  },
  {
   "cell_type": "code",
   "execution_count": null,
   "metadata": {},
   "outputs": [],
   "source": [
    "class Base {\n",
    "public:\n",
    "    virtual void my_virtual_function() const {\n",
    "        std::cout << \"Base virtual function\" << std::endl;\n",
    "    }\n",
    "    void my_function() const { std::cout << \"Base function\" << std::endl; }\n",
    "};"
   ]
  },
  {
   "cell_type": "code",
   "execution_count": null,
   "metadata": {},
   "outputs": [],
   "source": [
    "class Derived : public Base {\n",
    "public:\n",
    "    void my_virtual_function() const override {\n",
    "        std::cout << \"Derived virtual function\" << std::endl;\n",
    "    }\n",
    "    void my_function() const { std::cout << \"Derived function\" << std::endl; }\n",
    "}"
   ]
  },
  {
   "cell_type": "code",
   "execution_count": null,
   "metadata": {},
   "outputs": [],
   "source": [
    "Derived derived_instance; // Uses default constructor\n",
    "Derived * derived_ptr {&derived_instance};\n",
    "Base * base_derived_ptr {&derived_instance};\n",
    "Derived & derived_ref {derived_instance};\n",
    "Base & base_derived_ref {derived_instance};"
   ]
  },
  {
   "cell_type": "code",
   "execution_count": null,
   "metadata": {},
   "outputs": [],
   "source": [
    "derived_ptr->my_virtual_function();\n",
    "derived_ptr->my_function();\n",
    "derived_ref.my_virtual_function();\n",
    "derived_ref.my_function();"
   ]
  },
  {
   "cell_type": "code",
   "execution_count": null,
   "metadata": {},
   "outputs": [],
   "source": [
    "base_derived_ptr->my_virtual_function();\n",
    "base_derived_ptr->my_function();\n",
    "base_derived_ref.my_virtual_function();\n",
    "base_derived_ref.my_function();"
   ]
  },
  {
   "cell_type": "markdown",
   "metadata": {},
   "source": [
    "## C arrays"
   ]
  },
  {
   "cell_type": "code",
   "execution_count": null,
   "metadata": {},
   "outputs": [],
   "source": [
    "int my_array[5];"
   ]
  },
  {
   "cell_type": "code",
   "execution_count": null,
   "metadata": {},
   "outputs": [],
   "source": [
    "std::cout << my_array << std::endl;"
   ]
  },
  {
   "cell_type": "code",
   "execution_count": null,
   "metadata": {},
   "outputs": [],
   "source": [
    "my_array[1] = 8;"
   ]
  },
  {
   "cell_type": "code",
   "execution_count": null,
   "metadata": {},
   "outputs": [],
   "source": [
    "std::cout << my_array[1] << std::endl;\n",
    "std::cout << *(my_array+1) << std::endl;"
   ]
  },
  {
   "cell_type": "markdown",
   "metadata": {},
   "source": [
    "You can do the same with raw pointers:"
   ]
  },
  {
   "cell_type": "code",
   "execution_count": null,
   "metadata": {},
   "outputs": [],
   "source": [
    "int some_int {8};\n",
    "int * some_int_ptr {&some_int};"
   ]
  },
  {
   "cell_type": "code",
   "execution_count": null,
   "metadata": {},
   "outputs": [],
   "source": [
    "std::cout << some_int_ptr << std::endl;"
   ]
  },
  {
   "cell_type": "code",
   "execution_count": null,
   "metadata": {},
   "outputs": [],
   "source": [
    "std::cout << &some_int_ptr[1] << std::endl;"
   ]
  },
  {
   "cell_type": "code",
   "execution_count": null,
   "metadata": {},
   "outputs": [],
   "source": [
    "std::cout << some_int_ptr+1 << std::endl;"
   ]
  },
  {
   "cell_type": "markdown",
   "metadata": {},
   "source": [
    "**BEWARE** like with pointers, most compilers will not prevent you from trying to read beyond the end of the array (overflow) or the beginning (underflow).  This is the source of many security vulnerabilities in software.  You must be 100% sure of bounds when accessing C arrays, which is hard as they arrays themselves do not know their own size.  Usually this means adding extra bounds checks to your code.  Just use `std::array`, it does all this for you (and knows its own size)!"
   ]
  },
  {
   "cell_type": "markdown",
   "metadata": {},
   "source": [
    "## Dynamic memory"
   ]
  },
  {
   "cell_type": "markdown",
   "metadata": {},
   "source": [
    "### new/delete"
   ]
  },
  {
   "cell_type": "code",
   "execution_count": null,
   "metadata": {},
   "outputs": [],
   "source": [
    "const int SIZE {5};"
   ]
  },
  {
   "cell_type": "code",
   "execution_count": null,
   "metadata": {},
   "outputs": [],
   "source": [
    "int * my_new_function() {\n",
    "    int * my_array {new int[SIZE]};\n",
    "    for (int i {0}; i < SIZE; ++i) {\n",
    "        my_array[i] = i;\n",
    "    }\n",
    "    return my_array;\n",
    "}"
   ]
  },
  {
   "cell_type": "code",
   "execution_count": null,
   "metadata": {},
   "outputs": [],
   "source": [
    "int * array_ptr {my_new_function()};"
   ]
  },
  {
   "cell_type": "code",
   "execution_count": null,
   "metadata": {},
   "outputs": [],
   "source": [
    "std::cout << array_ptr[1] << std::endl;"
   ]
  },
  {
   "cell_type": "code",
   "execution_count": null,
   "metadata": {},
   "outputs": [],
   "source": [
    "delete(array_ptr);"
   ]
  },
  {
   "cell_type": "code",
   "execution_count": null,
   "metadata": {},
   "outputs": [],
   "source": [
    "std::cout << array_ptr[1] << std::endl;"
   ]
  },
  {
   "cell_type": "code",
   "execution_count": null,
   "metadata": {},
   "outputs": [],
   "source": [
    "Derived * my_factory() {\n",
    "    return new Derived(); // Note brackets to call constructor are REQUIRED!\n",
    "}"
   ]
  },
  {
   "cell_type": "code",
   "execution_count": null,
   "metadata": {},
   "outputs": [],
   "source": [
    "Derived * my_derived_factory_instance {my_factory()};"
   ]
  },
  {
   "cell_type": "code",
   "execution_count": null,
   "metadata": {},
   "outputs": [],
   "source": [
    "my_derived_factory_instance->my_function();"
   ]
  },
  {
   "cell_type": "code",
   "execution_count": null,
   "metadata": {},
   "outputs": [],
   "source": [
    "delete(my_derived_factory_instance);"
   ]
  },
  {
   "cell_type": "markdown",
   "metadata": {},
   "source": [
    "### malloc/free"
   ]
  },
  {
   "cell_type": "markdown",
   "metadata": {},
   "source": [
    "**BEWARE** This cannot be used with full classes (including those in the standard libarary) as the constructors cannot be called properly."
   ]
  },
  {
   "cell_type": "code",
   "execution_count": null,
   "metadata": {},
   "outputs": [],
   "source": [
    "char * make_string() {\n",
    "    // We can do this directly with malloc because char is 1 byte\n",
    "    char * my_string {static_cast<char *>(malloc(SIZE+1))};\n",
    "    for(int i {0}; i < SIZE; ++i) {\n",
    "        my_string[i] = '0' + i;\n",
    "    }\n",
    "    \n",
    "    // Strings must be null-terminated -\n",
    "    // this is what the extra malloc'd byte is for.\n",
    "    my_string[SIZE] = '\\0';\n",
    "\n",
    "    return my_string;\n",
    "}"
   ]
  },
  {
   "cell_type": "code",
   "execution_count": null,
   "metadata": {},
   "outputs": [],
   "source": [
    "char * c_string {make_string()};"
   ]
  },
  {
   "cell_type": "code",
   "execution_count": null,
   "metadata": {},
   "outputs": [],
   "source": [
    "std::cout << c_string << std::endl;"
   ]
  },
  {
   "cell_type": "code",
   "execution_count": null,
   "metadata": {},
   "outputs": [],
   "source": [
    "std::string cpp_string {c_string};"
   ]
  },
  {
   "cell_type": "code",
   "execution_count": null,
   "metadata": {},
   "outputs": [],
   "source": [
    "std::cout << cpp_string << std::endl;"
   ]
  },
  {
   "cell_type": "code",
   "execution_count": null,
   "metadata": {},
   "outputs": [],
   "source": [
    "std::cout << cpp_string.length() << std::endl;"
   ]
  },
  {
   "cell_type": "code",
   "execution_count": null,
   "metadata": {},
   "outputs": [],
   "source": [
    "free(c_string);"
   ]
  },
  {
   "cell_type": "code",
   "execution_count": null,
   "metadata": {},
   "outputs": [],
   "source": [
    "int * my_ints {static_cast<int *>(malloc(sizeof(int) * SIZE))};"
   ]
  },
  {
   "cell_type": "code",
   "execution_count": null,
   "metadata": {},
   "outputs": [],
   "source": [
    "for(int i {0}; i < SIZE; ++i) {\n",
    "    my_ints[i] = i;\n",
    "}"
   ]
  },
  {
   "cell_type": "code",
   "execution_count": null,
   "metadata": {},
   "outputs": [],
   "source": [
    "for(int i {0}; i < SIZE; ++i) {\n",
    "    std::cout << my_ints[i] << \", \";\n",
    "}\n"
   ]
  },
  {
   "cell_type": "code",
   "execution_count": null,
   "metadata": {},
   "outputs": [],
   "source": [
    "free(my_ints);"
   ]
  },
  {
   "cell_type": "markdown",
   "metadata": {},
   "source": [
    "## Virtual destructors"
   ]
  },
  {
   "cell_type": "markdown",
   "metadata": {},
   "source": [
    "In order for your classes to play nicely with `new`/`delete` and pointers you must make your destructors virtual to make sure all destructors are called.  **Always make your destructors virtual** so they will work no matter how your class is used (remember that std::vector, smart pointers etc. all use raw pointers and new/delete internally with your classes)."
   ]
  },
  {
   "cell_type": "code",
   "execution_count": null,
   "metadata": {},
   "outputs": [],
   "source": [
    "class NonVirtualDestructor {\n",
    "public:\n",
    "    NonVirtualDestructor() {}\n",
    "    ~NonVirtualDestructor() { std::cout << \"NonVitualDestructor destroyed\" << std::endl; }\n",
    "}"
   ]
  },
  {
   "cell_type": "code",
   "execution_count": null,
   "metadata": {},
   "outputs": [],
   "source": [
    "class VirtualDestructor {\n",
    "public:\n",
    "    VirtualDestructor() {}\n",
    "    virtual ~VirtualDestructor() { std::cout << \"VitualDestructor destroyed\" << std::endl; }\n",
    "}"
   ]
  },
  {
   "cell_type": "code",
   "execution_count": null,
   "metadata": {},
   "outputs": [],
   "source": [
    "class DestructorDerived : public NonVirtualDestructor, public VirtualDestructor {\n",
    "public:\n",
    "    DestructorDerived() {}\n",
    "    virtual ~DestructorDerived() { std::cout << \"Derived destroyed\" << std::endl; }\n",
    "}"
   ]
  },
  {
   "cell_type": "code",
   "execution_count": null,
   "metadata": {},
   "outputs": [],
   "source": [
    "VirtualDestructor * virtual_destructor_ptr {new DestructorDerived()};\n",
    "NonVirtualDestructor * non_virtual_destructor_ptr {new DestructorDerived()};"
   ]
  },
  {
   "cell_type": "code",
   "execution_count": null,
   "metadata": {},
   "outputs": [],
   "source": [
    "delete(virtual_destructor_ptr);"
   ]
  },
  {
   "cell_type": "code",
   "execution_count": null,
   "metadata": {},
   "outputs": [],
   "source": [
    "delete(non_virtual_destructor_ptr);"
   ]
  },
  {
   "cell_type": "markdown",
   "metadata": {},
   "source": [
    "## Variadic functions"
   ]
  },
  {
   "cell_type": "code",
   "execution_count": null,
   "metadata": {},
   "outputs": [],
   "source": [
    "#include <stdarg.h> // the C header for variable length arguments"
   ]
  },
  {
   "cell_type": "code",
   "execution_count": null,
   "metadata": {},
   "outputs": [],
   "source": [
    "void MyFunction(const int count, ...) {\n",
    "    // Argument count must be the number of variable arguments\n",
    "    va_list args; // argument information structure\n",
    "    /*\n",
    "     * Prepare to process the variable arguments -\n",
    "     * first argument must be an instance of va_list, the second\n",
    "     * is the last named argument (to figure out which arguments)\n",
    "     * are in the variable list.\n",
    "     */\n",
    "    va_start(args, count);\n",
    "    for(int i {0}; i < count; ++i) {\n",
    "        /*\n",
    "         * Get the next argument.  First argument to va_arg is the \n",
    "         * va_list structure passed to va_start, the second is the\n",
    "         * type of the next argument.  Note that we have to code\n",
    "         * the type for each argument here. va_arg will return that\n",
    "         * type.\n",
    "         */\n",
    "        std::string next_arg {va_arg(args, char*)};\n",
    "        std::cout << \"Argument: \" << next_arg << std::endl;\n",
    "    }\n",
    "    va_end(args); // Tell C(++) we have finished processing the arguments\n",
    "}"
   ]
  },
  {
   "cell_type": "code",
   "execution_count": null,
   "metadata": {},
   "outputs": [],
   "source": [
    "MyFunction(2, \"Hello\", \"World\");"
   ]
  },
  {
   "cell_type": "code",
   "execution_count": null,
   "metadata": {},
   "outputs": [],
   "source": [
    "MyFunction(3, \"Hi\", \"There\");"
   ]
  },
  {
   "cell_type": "code",
   "execution_count": null,
   "metadata": {},
   "outputs": [],
   "source": []
  }
 ],
 "metadata": {
  "kernelspec": {
   "display_name": "C++14",
   "language": "C++14",
   "name": "xcpp14"
  },
  "language_info": {
   "codemirror_mode": "text/x-c++src",
   "file_extension": ".cpp",
   "mimetype": "text/x-c++src",
   "name": "c++",
   "version": "14"
  }
 },
 "nbformat": 4,
 "nbformat_minor": 4
}
