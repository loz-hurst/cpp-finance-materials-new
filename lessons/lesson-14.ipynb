{
 "cells": [
  {
   "cell_type": "markdown",
   "metadata": {},
   "source": [
    "# Lesson 14 - Dynamic Polymorphism"
   ]
  },
  {
   "cell_type": "markdown",
   "metadata": {},
   "source": [
    "This notebook supports the materials in [lesson 14 of C++ for Finance](https://loz-hurst.github.io/cpp-finance-materials-new/lessons/lesson-14.html)."
   ]
  },
  {
   "cell_type": "markdown",
   "metadata": {},
   "source": [
    "## Forward declarations"
   ]
  },
  {
   "cell_type": "markdown",
   "metadata": {},
   "source": [
    "It is a good idea to include a reference to where the full definition can be found in the comment, so save you searching for it later."
   ]
  },
  {
   "cell_type": "code",
   "execution_count": null,
   "metadata": {},
   "outputs": [],
   "source": [
    "// This class is in MyClasses.hpp\n",
    "class ForwardDeclaredClass;"
   ]
  },
  {
   "cell_type": "code",
   "execution_count": null,
   "metadata": {},
   "outputs": [],
   "source": [
    "void SomeFunction(ForwardDeclaredClass & cls) {\n",
    "    // Do something that does not \"use\" ForwardDeclaredClass\n",
    "}"
   ]
  },
  {
   "cell_type": "markdown",
   "metadata": {},
   "source": [
    "You cannot do anything that requires knowing the insides of the class if you only have a forward declaration.  This will cause a compile-time error:"
   ]
  },
  {
   "cell_type": "code",
   "execution_count": null,
   "metadata": {},
   "outputs": [],
   "source": [
    "void SomeOtherFunction(ForwardDeclaredClass & cls) {\n",
    "    cls.SomeFunction();\n",
    "}"
   ]
  },
  {
   "cell_type": "markdown",
   "metadata": {},
   "source": [
    "Be careful of subtle cases where you are using (as opposed to referencing) a class, and therefore cannot use a forward declaration.  This is also a compile-time error because passing by value involves creating (using a constructor) a new instance:"
   ]
  },
  {
   "cell_type": "code",
   "execution_count": null,
   "metadata": {},
   "outputs": [],
   "source": [
    "void SomeOtherFunction(ForwardDeclaredClass cls) {\n",
    "    // Do something that does not \"use\" ForwardDeclaredClass\n",
    "}"
   ]
  },
  {
   "cell_type": "markdown",
   "metadata": {},
   "source": [
    "Even if your object uses the default constructor, C++ needs the definition to know for sure that another constructor has not been provided."
   ]
  },
  {
   "cell_type": "markdown",
   "metadata": {},
   "source": [
    "## Polymorphism"
   ]
  },
  {
   "cell_type": "markdown",
   "metadata": {},
   "source": [
    "### Static and dynamic type, and virtual functions refresher"
   ]
  },
  {
   "cell_type": "markdown",
   "metadata": {},
   "source": [
    "First include the iostream header, so we can see what is happening:"
   ]
  },
  {
   "cell_type": "code",
   "execution_count": null,
   "metadata": {},
   "outputs": [],
   "source": [
    "#include <iostream>"
   ]
  },
  {
   "cell_type": "markdown",
   "metadata": {},
   "source": [
    "Here is an example of a small class hierachy, with a virtual and non-virtual function in the base class that is overridden in two derrived classes:"
   ]
  },
  {
   "cell_type": "code",
   "execution_count": null,
   "metadata": {},
   "outputs": [],
   "source": [
    "// A class\n",
    "class MyClass {\n",
    "private:\n",
    "    int i_;\n",
    "public:\n",
    "    MyClass() : i_{0} {};\n",
    "    // A pure virtual function\n",
    "    virtual void VirtualFunction() const = 0;\n",
    "    // A function that is not virtual\n",
    "    void NotVirtualFunction() const {std::cout << \"MyClass::NotVirtualFunction\" << std::endl;}\n",
    "    void SetI(const int i) {i_ = i;}\n",
    "    int GetI() const {return i_;}\n",
    "};\n",
    "\n",
    "// A class derived from MyClass\n",
    "class MyDerivedClass : public MyClass {\n",
    "public:\n",
    "    // Implemented virtual function\n",
    "    virtual void VirtualFunction() const override {std::cout << \"Derived::VirtualFunction\" << std::endl;}\n",
    "    // Override a function that is not virtual\n",
    "    void NotVirtualFunction() const {std::cout << \"Derived::NotVirtualFunction\" << std::endl;}\n",
    "};\n",
    "\n",
    "// Another class derived from MyClass\n",
    "class MyOtherDerivedClass : public MyClass {\n",
    "public:\n",
    "    // Implemented virtual function\n",
    "    virtual void VirtualFunction() const override {std::cout << \"OtherDerived::VirtualFunction\" << std::endl;}\n",
    "    // Override a function that is not virtual\n",
    "    void NotVirtualFunction() const {std::cout << \"OtherDerived::NotVirtualFunction\" << std::endl;}\n",
    "};"
   ]
  },
  {
   "cell_type": "markdown",
   "metadata": {},
   "source": [
    "Here is a function that calls the virtual method on a reference of the base class type:"
   ]
  },
  {
   "cell_type": "code",
   "execution_count": null,
   "metadata": {},
   "outputs": [],
   "source": [
    "// Calls 'VirtualFunction' on the passed in reference\n",
    "void CallVirtualFunction(MyClass & cls) {\n",
    "    // Static type of cls is always \"MyClass\"\n",
    "    cls.VirtualFunction();\n",
    "}"
   ]
  },
  {
   "cell_type": "markdown",
   "metadata": {},
   "source": [
    "And here is a function that calls the non-virtual method on a reference of the base class type:"
   ]
  },
  {
   "cell_type": "code",
   "execution_count": null,
   "metadata": {},
   "outputs": [],
   "source": [
    "// Calls 'NotVirtualFunction' on the passed in reference\n",
    "void CallNotVirtualFunction(MyClass & cls) {\n",
    "    cls.NotVirtualFunction();\n",
    "}"
   ]
  },
  {
   "cell_type": "markdown",
   "metadata": {},
   "source": [
    "Finally, because MyClass is abstract we cannot create a function that takes a by-value argument of the base class type."
   ]
  },
  {
   "cell_type": "code",
   "execution_count": null,
   "metadata": {},
   "outputs": [],
   "source": [
    "// Calls 'VirtualFunction' on the passed in class\n",
    "void CallVirtualFunctionStatic(MyClass cls) {\n",
    "    // cls is not a reference - it has no dynamic type\n",
    "    cls.VirtualFunction();\n",
    "}"
   ]
  },
  {
   "cell_type": "markdown",
   "metadata": {},
   "source": [
    "Instantiate one of each class:"
   ]
  },
  {
   "cell_type": "code",
   "execution_count": null,
   "metadata": {},
   "outputs": [],
   "source": [
    "MyDerivedClass derived_class;\n",
    "MyOtherDerivedClass other_derived_class;"
   ]
  },
  {
   "cell_type": "markdown",
   "metadata": {},
   "source": [
    "This piece of code calls our functions with the instances.  Note that the dynamic type of the references will be the respective classes - whether the overridden function gets called will depend on if the function is virtual (and therefore resolved at runtime) or not (resolved at compile time)."
   ]
  },
  {
   "cell_type": "code",
   "execution_count": null,
   "metadata": {},
   "outputs": [],
   "source": [
    "// Dynamic type of cls in CallVirtualFunction will be MyDerivedClass\n",
    "CallVirtualFunction(derived_class);\n",
    "CallNotVirtualFunction(derived_class);\n",
    "\n",
    "// Dynamic type of cls in CallVirtualFunction will be MyOtherDerivedClass\n",
    "CallVirtualFunction(other_derived_class);\n",
    "CallNotVirtualFunction(other_derived_class);"
   ]
  },
  {
   "cell_type": "markdown",
   "metadata": {},
   "source": [
    "MyClass is astract, so we cannot create instances but if we could then our references could have both dynamic and static types of MyClass."
   ]
  },
  {
   "cell_type": "code",
   "execution_count": null,
   "metadata": {},
   "outputs": [],
   "source": [
    "MyClass my_class; // Error - MyClass is abstract and cannot be created\n",
    "// If it was not abstract, then the dynamic type of cls in CallVirtualFunction would be MyClass (same as its static type)\n",
    "CallVirtualFunction(my_class);\n",
    "CallNotVirtualFunction(my_class);"
   ]
  },
  {
   "cell_type": "markdown",
   "metadata": {},
   "source": [
    "### The override keyword"
   ]
  },
  {
   "cell_type": "markdown",
   "metadata": {},
   "source": [
    "The override keyword protects our programs from silly mistakes, which is a good thing for making sure our programs are correct:"
   ]
  },
  {
   "cell_type": "code",
   "execution_count": null,
   "metadata": {},
   "outputs": [],
   "source": [
    "// A class to illustrate mistakes in overriding\n",
    "class MyOverrideMistake : public MyClass {\n",
    "public:\n",
    "    // I made a mistake, the signature does not match\n",
    "    virtual void VirtualFunction(const int a) const override;\n",
    "    // I made a mistake, the function name has a typo\n",
    "    virtual void VitrualFunction() const override;\n",
    "};"
   ]
  },
  {
   "cell_type": "markdown",
   "metadata": {},
   "source": [
    "### The diamond problem"
   ]
  },
  {
   "cell_type": "markdown",
   "metadata": {},
   "source": [
    "We already have two classes, MyDerivedClass and MyOtherDerivedClass, that derive from a common base, MyClass.  Making an example of the diamond problem is trivial just by deriving from both of them:"
   ]
  },
  {
   "cell_type": "code",
   "execution_count": null,
   "metadata": {},
   "outputs": [],
   "source": [
    "// A class to illustrate the diamond problem\n",
    "class MyDiamondProblemClass : public MyDerivedClass, public MyOtherDerivedClass {};"
   ]
  },
  {
   "cell_type": "markdown",
   "metadata": {},
   "source": [
    "Creating an instance, so we can use it to illustrate the problem:"
   ]
  },
  {
   "cell_type": "code",
   "execution_count": null,
   "metadata": {},
   "outputs": [],
   "source": [
    "MyDiamondProblemClass diamond_problem;"
   ]
  },
  {
   "cell_type": "markdown",
   "metadata": {},
   "source": [
    "Trying to call any of the functions will result in a compile time error:"
   ]
  },
  {
   "cell_type": "code",
   "execution_count": null,
   "metadata": {},
   "outputs": [],
   "source": [
    "diamond_problem.VirtualFunction();"
   ]
  },
  {
   "cell_type": "markdown",
   "metadata": {},
   "source": [
    "But we can resolve the ambiguity and call just one of the ancestors:"
   ]
  },
  {
   "cell_type": "code",
   "execution_count": null,
   "metadata": {},
   "outputs": [],
   "source": [
    "diamond_problem.MyDerivedClass::VirtualFunction();"
   ]
  },
  {
   "cell_type": "code",
   "execution_count": null,
   "metadata": {},
   "outputs": [],
   "source": [
    "diamond_problem.MyOtherDerivedClass::VirtualFunction();"
   ]
  },
  {
   "cell_type": "markdown",
   "metadata": {},
   "source": [
    "However our MyDiamondProblemClass class now has two seperate MyClass sub-objects, each with it's own internal state.  This is going to get confusing:"
   ]
  },
  {
   "cell_type": "code",
   "execution_count": null,
   "metadata": {},
   "outputs": [],
   "source": [
    "diamond_problem.MyDerivedClass::SetI(20);\n",
    "diamond_problem.MyOtherDerivedClass::SetI(17);"
   ]
  },
  {
   "cell_type": "code",
   "execution_count": null,
   "metadata": {},
   "outputs": [],
   "source": [
    "std::cout <<\n",
    "    \"Derived's parent: \" << diamond_problem.MyDerivedClass::GetI() <<\n",
    "    \" OtherDerived's parent:\" << diamond_problem.MyOtherDerivedClass::GetI() <<\n",
    "    std::endl;"
   ]
  },
  {
   "cell_type": "markdown",
   "metadata": {},
   "source": [
    "### Virtual inheritance"
   ]
  },
  {
   "cell_type": "markdown",
   "metadata": {},
   "source": [
    "Prevents the diamond problem by ensuring only 1 subobject is created for each virtual type:"
   ]
  },
  {
   "cell_type": "code",
   "execution_count": null,
   "metadata": {},
   "outputs": [],
   "source": [
    "// A class derived from MyClass\n",
    "class MyVirtualDerivedClass : virtual public MyClass {\n",
    "public:\n",
    "    // Implemented virtual function\n",
    "    virtual void VirtualFunction() const override {std::cout << \"Derived::VirtualFunction\" << std::endl;}\n",
    "    // Override a function that is not virtual\n",
    "    void NotVirtualFunction() const {std::cout << \"Derived::NotVirtualFunction\" << std::endl;}\n",
    "};\n",
    "\n",
    "// Another class derived from MyClass\n",
    "class MyVirtualOtherDerivedClass : virtual public MyClass {\n",
    "public:\n",
    "    // Override a function that is not virtual\n",
    "    void NotVirtualFunction() const {std::cout << \"OtherDerived::NotVirtualFunction\" << std::endl;}\n",
    "};"
   ]
  },
  {
   "cell_type": "code",
   "execution_count": null,
   "metadata": {},
   "outputs": [],
   "source": [
    "// A class to illustrate the diamond problem\n",
    "class MyVirtualDiamondProblemClass : public MyVirtualDerivedClass, public MyVirtualOtherDerivedClass {};"
   ]
  },
  {
   "cell_type": "markdown",
   "metadata": {},
   "source": [
    "Now create an instance so we can see the problem is resolved:"
   ]
  },
  {
   "cell_type": "code",
   "execution_count": null,
   "metadata": {},
   "outputs": [],
   "source": [
    "MyVirtualDiamondProblemClass diamond_solution;"
   ]
  },
  {
   "cell_type": "code",
   "execution_count": null,
   "metadata": {},
   "outputs": [],
   "source": [
    "diamond_solution.VirtualFunction();"
   ]
  },
  {
   "cell_type": "code",
   "execution_count": null,
   "metadata": {},
   "outputs": [],
   "source": [
    "diamond_solution.SetI(20);"
   ]
  },
  {
   "cell_type": "code",
   "execution_count": null,
   "metadata": {},
   "outputs": [],
   "source": [
    "std::cout <<\n",
    "    \"VirtualDerived's parent: \" << diamond_solution.MyVirtualDerivedClass::GetI() <<\n",
    "    \" VirtualOtherDerived's parent:\" << diamond_solution.MyVirtualOtherDerivedClass::GetI() <<\n",
    "    std::endl;"
   ]
  },
  {
   "cell_type": "code",
   "execution_count": null,
   "metadata": {},
   "outputs": [],
   "source": [
    "diamond_solution.MyDerivedClass::SetI(17);"
   ]
  },
  {
   "cell_type": "code",
   "execution_count": null,
   "metadata": {},
   "outputs": [],
   "source": [
    "std::cout <<\n",
    "    \"VirtualDerived's parent: \" << diamond_solution.MyVirtualDerivedClass::GetI() <<\n",
    "    \" VirtualOtherDerived's parent:\" << diamond_solution.MyVirtualOtherDerivedClass::GetI() <<\n",
    "    std::endl;"
   ]
  },
  {
   "cell_type": "markdown",
   "metadata": {},
   "source": [
    "Virtual inheritance only ensures one copy if the class is virually inherited, there will still be seperate sub-objects for each non-virtually inherited version:"
   ]
  },
  {
   "cell_type": "code",
   "execution_count": null,
   "metadata": {},
   "outputs": [],
   "source": [
    "class MyStillADiamondClass :\n",
    "    public MyVirtualDerivedClass,\n",
    "    public MyVirtualOtherDerivedClass,\n",
    "    public MyDerivedClass,\n",
    "    public MyOtherDerivedClass\n",
    "{};"
   ]
  },
  {
   "cell_type": "code",
   "execution_count": null,
   "metadata": {},
   "outputs": [],
   "source": [
    "MyStillADiamondClass still_a_diamond_problem;"
   ]
  },
  {
   "cell_type": "code",
   "execution_count": null,
   "metadata": {},
   "outputs": [],
   "source": [
    "still_a_diamond_problem.VirtualFunction(); // Still ambiguous"
   ]
  },
  {
   "cell_type": "code",
   "execution_count": null,
   "metadata": {},
   "outputs": [],
   "source": [
    "still_a_diamond_problem.MyVirtualDerivedClass::SetI(10);"
   ]
  },
  {
   "cell_type": "code",
   "execution_count": null,
   "metadata": {},
   "outputs": [],
   "source": [
    "still_a_diamond_problem.MyDerivedClass::SetI(11);"
   ]
  },
  {
   "cell_type": "code",
   "execution_count": null,
   "metadata": {},
   "outputs": [],
   "source": [
    "still_a_diamond_problem.MyOtherDerivedClass::SetI(12);"
   ]
  },
  {
   "cell_type": "code",
   "execution_count": null,
   "metadata": {},
   "outputs": [],
   "source": [
    "std::cout <<\n",
    "    \"Derived's parent: \" << still_a_diamond_problem.MyDerivedClass::GetI() <<\n",
    "    \" OtherDerived's parent:\" << still_a_diamond_problem.MyOtherDerivedClass::GetI() <<\n",
    "    \" VirtualDerived's parent: \" << still_a_diamond_problem.MyVirtualDerivedClass::GetI() <<\n",
    "    \" VirtualOtherDerived's parent:\" << still_a_diamond_problem.MyVirtualOtherDerivedClass::GetI() <<\n",
    "    std::endl;"
   ]
  },
  {
   "cell_type": "code",
   "execution_count": null,
   "metadata": {},
   "outputs": [],
   "source": [
    "still_a_diamond_problem.MyVirtualOtherDerivedClass::SetI(13);"
   ]
  },
  {
   "cell_type": "code",
   "execution_count": null,
   "metadata": {},
   "outputs": [],
   "source": [
    "std::cout <<\n",
    "    \"Derived's parent: \" << still_a_diamond_problem.MyDerivedClass::GetI() <<\n",
    "    \" OtherDerived's parent:\" << still_a_diamond_problem.MyOtherDerivedClass::GetI() <<\n",
    "    \" VirtualDerived's parent: \" << still_a_diamond_problem.MyVirtualDerivedClass::GetI() <<\n",
    "    \" VirtualOtherDerived's parent:\" << still_a_diamond_problem.MyVirtualOtherDerivedClass::GetI() <<\n",
    "    std::endl;"
   ]
  },
  {
   "cell_type": "markdown",
   "metadata": {},
   "source": [
    "## Casting"
   ]
  },
  {
   "cell_type": "markdown",
   "metadata": {},
   "source": [
    "Casting allows us to explicitly change they type:"
   ]
  },
  {
   "cell_type": "code",
   "execution_count": null,
   "metadata": {},
   "outputs": [],
   "source": [
    "MyClass & my_class_ref {dynamic_cast<MyClass&>(diamond_solution)};"
   ]
  },
  {
   "cell_type": "code",
   "execution_count": null,
   "metadata": {},
   "outputs": [],
   "source": [
    "my_class_ref.VirtualFunction();"
   ]
  },
  {
   "cell_type": "markdown",
   "metadata": {},
   "source": [
    "Dynamic casts, which happen at runtime, make sure the cast is sensible:"
   ]
  },
  {
   "cell_type": "code",
   "execution_count": null,
   "metadata": {},
   "outputs": [],
   "source": [
    "MyVirtualDerivedClass & my_virtual_ref {dynamic_cast<MyVirtualDerivedClass&>(derived_class)};"
   ]
  },
  {
   "cell_type": "markdown",
   "metadata": {},
   "source": [
    "Static casts, which happen at compile time, will check the objects are related (or convertable):"
   ]
  },
  {
   "cell_type": "code",
   "execution_count": null,
   "metadata": {},
   "outputs": [],
   "source": [
    "MyVirtualDerivedClass my_class_static_cast {static_cast<MyClass>(derived_class)};"
   ]
  },
  {
   "cell_type": "markdown",
   "metadata": {},
   "source": [
    "...but do not prevent all silly casts:"
   ]
  },
  {
   "cell_type": "code",
   "execution_count": null,
   "metadata": {},
   "outputs": [],
   "source": [
    "MyDiamondProblemClass & my_diamond_cast {static_cast<MyDiamondProblemClass&>(derived_class)};"
   ]
  },
  {
   "cell_type": "markdown",
   "metadata": {},
   "source": [
    "Remember the compiler warns (or errors, depending on settings) if you assign (for example) a double to an int?:"
   ]
  },
  {
   "cell_type": "code",
   "execution_count": null,
   "metadata": {},
   "outputs": [],
   "source": [
    "int a {2.2};"
   ]
  },
  {
   "cell_type": "markdown",
   "metadata": {},
   "source": [
    "A static_cast is the solution if you deliberately want to do that (but make sure there is not a more sensible way first!):"
   ]
  },
  {
   "cell_type": "code",
   "execution_count": null,
   "metadata": {},
   "outputs": [],
   "source": [
    "int a {static_cast<int>(2.2)};"
   ]
  },
  {
   "cell_type": "markdown",
   "metadata": {},
   "source": [
    "reinterpret_cast is outright dangerous:"
   ]
  },
  {
   "cell_type": "code",
   "execution_count": null,
   "metadata": {},
   "outputs": [],
   "source": [
    "int b {5};\n",
    "long long & ref_b {reinterpret_cast<long long&>(b)};"
   ]
  },
  {
   "cell_type": "markdown",
   "metadata": {},
   "source": [
    "ref_b is now a reference to b, but is being treated as referring to a long long (at least 64 bits of memory) when it actually refers to something that is only an int (16 or 32 bits, usually). "
   ]
  },
  {
   "cell_type": "code",
   "execution_count": null,
   "metadata": {},
   "outputs": [],
   "source": [
    "std::cout <<\n",
    "    \"int size: \" << sizeof(int) <<\n",
    "    \" long long size: \" << sizeof(long long) << std::endl <<\n",
    "    \"b size: \" << sizeof(b) <<\n",
    "    \" ref_b size: \" << sizeof(ref_b) <<\n",
    "    std::endl;"
   ]
  },
  {
   "cell_type": "markdown",
   "metadata": {},
   "source": [
    "This is almost certainly going to result in bad things happening if the program uses ref_b!"
   ]
  },
  {
   "cell_type": "markdown",
   "metadata": {},
   "source": [
    "const_cast is equally problematic because they mean your program effecively lies about what it does:"
   ]
  },
  {
   "cell_type": "code",
   "execution_count": null,
   "metadata": {},
   "outputs": [],
   "source": [
    "// Says the reference argument is const but actually increments it!\n",
    "void modify_argument (const int & a) {\n",
    "    ++const_cast<int&>(a);\n",
    "}"
   ]
  },
  {
   "cell_type": "code",
   "execution_count": null,
   "metadata": {},
   "outputs": [],
   "source": [
    "std::cout << \"a: \" << a << \" b: \" << b << std::endl;"
   ]
  },
  {
   "cell_type": "code",
   "execution_count": null,
   "metadata": {},
   "outputs": [],
   "source": [
    "modify_argument(a);\n",
    "modify_argument(b);"
   ]
  },
  {
   "cell_type": "code",
   "execution_count": null,
   "metadata": {},
   "outputs": [],
   "source": [
    "std::cout << \"a: \" << a << \" b: \" << b << std::endl;"
   ]
  },
  {
   "cell_type": "markdown",
   "metadata": {},
   "source": [
    "## Putting polymorphism to use"
   ]
  },
  {
   "cell_type": "markdown",
   "metadata": {},
   "source": [
    "Suppose we want to be able to do numerical integration of functions using a common code to discretise the function but possibly different methods for calculating the quadrature (area bounded by the function and discretise bound)."
   ]
  },
  {
   "cell_type": "code",
   "execution_count": null,
   "metadata": {},
   "outputs": [],
   "source": [
    "#include <functional>"
   ]
  },
  {
   "cell_type": "markdown",
   "metadata": {},
   "source": [
    "First we need an interface and couple of implementations (using trapezium rule and Simpson's rule as examples) for our calculation methods:"
   ]
  },
  {
   "cell_type": "code",
   "execution_count": null,
   "metadata": {},
   "outputs": [],
   "source": [
    "// Base class for a quadrature method\n",
    "class Quadrature {\n",
    "public:\n",
    "    // Estimate the numerical integral of function f between bounds a and b\n",
    "    virtual double calculate(const double a, const double b, const std::function<double(double)> & f) const = 0;\n",
    "};\n",
    "\n",
    "// Trapezium rule calculator\n",
    "class QuadTrapezium : virtual public Quadrature {\n",
    "public:\n",
    "    virtual double calculate(const double a, const double b, const std::function<double(double)> & f) const override;\n",
    "};\n",
    "\n",
    "// Simpson's rule calculator\n",
    "class QuadSimpsons : virtual public Quadrature {\n",
    "public:\n",
    "    virtual double calculate(const double a, const double b, const std::function<double(double)> & f) const override;\n",
    "};"
   ]
  },
  {
   "cell_type": "markdown",
   "metadata": {},
   "source": [
    "Now the implementation of the Trapezium rule:"
   ]
  },
  {
   "cell_type": "code",
   "execution_count": null,
   "metadata": {},
   "outputs": [],
   "source": [
    "double QuadTrapezium::calculate (const double a, const double b, const std::function<double(double)> & f) const {\n",
    "    return 0.5 * (b-a) * (f(a) + f(b));\n",
    "}"
   ]
  },
  {
   "cell_type": "markdown",
   "metadata": {},
   "source": [
    "...and Simpson's rule:"
   ]
  },
  {
   "cell_type": "code",
   "execution_count": null,
   "metadata": {},
   "outputs": [],
   "source": [
    "double QuadSimpsons::calculate (const double a, const double b, const std::function<double(double)> & f) const {\n",
    "    // b-a/6 * (f(a) + 4*f(mid-point) + f(b))\n",
    "    return (b-a) * (f(a) + 4.0*f(0.5*(a+b)) + f(b))/6;\n",
    "}"
   ]
  },
  {
   "cell_type": "markdown",
   "metadata": {},
   "source": [
    "Finally, a function that will integrate a function between 0 and 1 using either method (through polymorphism):"
   ]
  },
  {
   "cell_type": "code",
   "execution_count": null,
   "metadata": {},
   "outputs": [],
   "source": [
    "// Integrate a function (f) between 0 and 1, using numerical methods (method) and the given number of intervals (intervals)\n",
    "double integrate_0_1(const std::function<double(double)> & f, const Quadrature & method, const unsigned int intervals) {\n",
    "    double h {1.0/intervals}; // size of each interval\n",
    "    double result {0}; // result value\n",
    "    for (int i {0}; i < intervals; ++i)\n",
    "        result += method.calculate(i*h, (i+1)*h, f);\n",
    "    return result;\n",
    "}"
   ]
  },
  {
   "cell_type": "markdown",
   "metadata": {},
   "source": [
    "We need an instance of each method:"
   ]
  },
  {
   "cell_type": "code",
   "execution_count": null,
   "metadata": {},
   "outputs": [],
   "source": [
    "QuadTrapezium trap;\n",
    "QuadSimpsons simp;"
   ]
  },
  {
   "cell_type": "markdown",
   "metadata": {},
   "source": [
    "Test both methods with 5 interals for f(x) = $x^2$:"
   ]
  },
  {
   "cell_type": "code",
   "execution_count": null,
   "metadata": {},
   "outputs": [],
   "source": [
    "std::cout <<\n",
    "    \"Trapezium: \" << integrate_0_1([](const double x) -> double {return x*x;}, trap, 5) <<\n",
    "    \" Simpsons: \" << integrate_0_1([](const double x) -> double {return x*x;}, simp, 5) <<\n",
    "    std::endl;"
   ]
  }
 ],
 "metadata": {
  "kernelspec": {
   "display_name": "C++14",
   "language": "C++14",
   "name": "xcpp14"
  },
  "language_info": {
   "codemirror_mode": "text/x-c++src",
   "file_extension": ".cpp",
   "mimetype": "text/x-c++src",
   "name": "c++",
   "version": "14"
  }
 },
 "nbformat": 4,
 "nbformat_minor": 2
}
