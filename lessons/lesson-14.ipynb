{
 "cells": [
  {
   "cell_type": "markdown",
   "metadata": {},
   "source": [
    "# Lesson 14 - Dynamic Polymorphism"
   ]
  },
  {
   "cell_type": "markdown",
   "metadata": {},
   "source": [
    "This notebook supports the materials in [lesson 14 of C++ for Finance](https://loz-hurst.github.io/cpp-finance-materials-new/lessons/lesson-14.html)."
   ]
  },
  {
   "cell_type": "markdown",
   "metadata": {},
   "source": [
    "## Forward declarations"
   ]
  },
  {
   "cell_type": "markdown",
   "metadata": {},
   "source": [
    "It is a good idea to include a reference to where the full definition can be found in the comment, so save you searching for it later."
   ]
  },
  {
   "cell_type": "code",
   "execution_count": null,
   "metadata": {},
   "outputs": [],
   "source": [
    "// This class is in MyClasses.hpp\n",
    "class ForwardDeclaredClass;"
   ]
  },
  {
   "cell_type": "code",
   "execution_count": null,
   "metadata": {},
   "outputs": [],
   "source": [
    "void SomeFunction(ForwardDeclaredClass & cls) {\n",
    "    // Do something that does not \"use\" ForwardDeclaredClass\n",
    "}"
   ]
  },
  {
   "cell_type": "markdown",
   "metadata": {},
   "source": [
    "You cannot do anything that requires knowing the insides of the class if you only have a forward declaration.  This will cause a compile-time error:"
   ]
  },
  {
   "cell_type": "code",
   "execution_count": null,
   "metadata": {},
   "outputs": [],
   "source": [
    "void SomeOtherFunction(ForwardDeclaredClass & cls) {\n",
    "    cls.SomeFunction();\n",
    "}"
   ]
  },
  {
   "cell_type": "markdown",
   "metadata": {},
   "source": [
    "Be careful of subtle cases where you are using (as opposed to referencing) a class, and therefore cannot use a forward declaration.  This is also a compile-time error because passing by value involves creating (using a constructor) a new instance:"
   ]
  },
  {
   "cell_type": "code",
   "execution_count": null,
   "metadata": {},
   "outputs": [],
   "source": [
    "void SomeOtherFunction(ForwardDeclaredClass cls) {\n",
    "    // Do something that does not \"use\" ForwardDeclaredClass\n",
    "}"
   ]
  },
  {
   "cell_type": "markdown",
   "metadata": {},
   "source": [
    "Even if your object uses the default constructor, C++ needs the definition to know for sure that another constructor has not been provided."
   ]
  },
  {
   "cell_type": "markdown",
   "metadata": {},
   "source": [
    "## Polymorphism"
   ]
  },
  {
   "cell_type": "markdown",
   "metadata": {},
   "source": [
    "### Static and dynamic type, and virtual functions refresher"
   ]
  },
  {
   "cell_type": "code",
   "execution_count": null,
   "metadata": {},
   "outputs": [],
   "source": [
    "#include <iostream>"
   ]
  },
  {
   "cell_type": "code",
   "execution_count": null,
   "metadata": {},
   "outputs": [],
   "source": [
    "// A class\n",
    "class MyClass {\n",
    "public:\n",
    "    // A pure virtual function\n",
    "    virtual void VirtualFunction() const = 0;\n",
    "    // A function that is not virtual\n",
    "    void NotVirtualFunction() const {std::cout << \"MyClass::NotVirtualFunction\" << std::endl;}\n",
    "};\n",
    "\n",
    "// A class derived from MyClass\n",
    "class MyDerivedClass : public MyClass {\n",
    "public:\n",
    "    // Implremented virtual function\n",
    "    virtual void VirtualFunction() const {std::cout << \"Derived::VirtualFunction\" << std::endl;}\n",
    "    // Override a function that is not virtual\n",
    "    void NotVirtualFunction() const {std::cout << \"Derived::NotVirtualFunction\" << std::endl;}\n",
    "};\n",
    "\n",
    "// Another class derived from MyClass\n",
    "class MyOtherDerivedClass : public MyClass {\n",
    "public:\n",
    "    // Implremented virtual function\n",
    "    virtual void VirtualFunction() const {std::cout << \"OtherDerived::VirtualFunction\" << std::endl;}\n",
    "    // Override a function that is not virtual\n",
    "    void NotVirtualFunction() const {std::cout << \"OtherDerived::NotVirtualFunction\" << std::endl;}\n",
    "};"
   ]
  },
  {
   "cell_type": "code",
   "execution_count": null,
   "metadata": {},
   "outputs": [],
   "source": [
    "// Calls 'VirtualFunction' on the passed in reference\n",
    "void CallVirtualFunction(MyClass & cls) {\n",
    "    // Static type of cls is always \"MyClass\"\n",
    "    cls.VirtualFunction();\n",
    "}"
   ]
  },
  {
   "cell_type": "code",
   "execution_count": null,
   "metadata": {},
   "outputs": [],
   "source": [
    "// Calls 'NotVirtualFunction' on the passed in reference\n",
    "void CallNotVirtualFunction(MyClass & cls) {\n",
    "    cls.NotVirtualFunction();\n",
    "}"
   ]
  },
  {
   "cell_type": "code",
   "execution_count": null,
   "metadata": {},
   "outputs": [],
   "source": [
    "MyDerivedClass derived_class;\n",
    "MyOtherDerivedClass other_derived_class;\n",
    "\n",
    "// Dynamic type of cls in CallVirtualFunction will be MyDerivedClass\n",
    "CallVirtualFunction(derived_class);\n",
    "CallNotVirtualFunction(derived_class);\n",
    "\n",
    "// Dynamic type of cls in CallVirtualFunction will be MyOtherDerivedClass\n",
    "CallVirtualFunction(other_derived_class);\n",
    "CallNotVirtualFunction(other_derived_class);"
   ]
  },
  {
   "cell_type": "code",
   "execution_count": null,
   "metadata": {},
   "outputs": [],
   "source": [
    "MyClass my_class; // Error - MyClass is abstract and cannot be created\n",
    "// If it was not abstract, then the dynamic type of cls in CallVirtualFunction would be MyClass (same as its static type)\n",
    "CallVirtualFunction(my_class);\n",
    "CallNotVirtualFunction(my_class);"
   ]
  },
  {
   "cell_type": "code",
   "execution_count": null,
   "metadata": {},
   "outputs": [],
   "source": []
  }
 ],
 "metadata": {
  "kernelspec": {
   "display_name": "C++14",
   "language": "C++14",
   "name": "xcpp14"
  },
  "language_info": {
   "codemirror_mode": "text/x-c++src",
   "file_extension": ".cpp",
   "mimetype": "text/x-c++src",
   "name": "c++",
   "version": "14"
  }
 },
 "nbformat": 4,
 "nbformat_minor": 2
}
