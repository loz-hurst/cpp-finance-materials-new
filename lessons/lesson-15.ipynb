{
 "cells": [
  {
   "cell_type": "markdown",
   "metadata": {},
   "source": [
    "# Lesson 15 - Advanced construction and small types"
   ]
  },
  {
   "cell_type": "markdown",
   "metadata": {},
   "source": [
    "This notebook supports the materials in [lesson 15 of C++ for Finance](https://loz-hurst.github.io/cpp-finance-materials-new/lessons/lesson-15.html)."
   ]
  },
  {
   "cell_type": "markdown",
   "metadata": {},
   "source": [
    "## Constructors"
   ]
  },
  {
   "cell_type": "markdown",
   "metadata": {},
   "source": [
    "Recall that constructors can be called explicitly or implicitly:"
   ]
  },
  {
   "cell_type": "code",
   "execution_count": null,
   "metadata": {},
   "outputs": [],
   "source": [
    "class MyFirstClass {\n",
    "public:\n",
    "    MyFirstClass(const int a) {}\n",
    "};"
   ]
  },
  {
   "cell_type": "code",
   "execution_count": null,
   "metadata": {},
   "outputs": [],
   "source": [
    "MyFirstClass my_first_class_instance_1 {2}; // Explicit call"
   ]
  },
  {
   "cell_type": "code",
   "execution_count": null,
   "metadata": {},
   "outputs": [],
   "source": [
    "MyFirstClass my_first_class_instance_2 = 2; // Implicit call"
   ]
  },
  {
   "cell_type": "markdown",
   "metadata": {},
   "source": [
    "We can prevent implicit conversion by adding the keyword `explicit` to the constructor:"
   ]
  },
  {
   "cell_type": "code",
   "execution_count": null,
   "metadata": {},
   "outputs": [],
   "source": [
    "class MySecondClass {\n",
    "public:\n",
    "    explicit MySecondClass(const int a) {}\n",
    "};"
   ]
  },
  {
   "cell_type": "code",
   "execution_count": null,
   "metadata": {},
   "outputs": [],
   "source": [
    "MySecondClass my_second_class_instance_1 {2}; // Explicit call - fine"
   ]
  },
  {
   "cell_type": "code",
   "execution_count": null,
   "metadata": {
    "scrolled": true
   },
   "outputs": [],
   "source": [
    "MySecondClass my_second_class_instance_2 = 2; // Implicit call - fail"
   ]
  },
  {
   "cell_type": "markdown",
   "metadata": {},
   "source": [
    "### Overloading constructors"
   ]
  },
  {
   "cell_type": "markdown",
   "metadata": {},
   "source": [
    "We can overload constructors, just like functions:"
   ]
  },
  {
   "cell_type": "code",
   "execution_count": 1,
   "metadata": {},
   "outputs": [],
   "source": [
    "#include <string>\n",
    "#include <iostream>"
   ]
  },
  {
   "cell_type": "code",
   "execution_count": 2,
   "metadata": {},
   "outputs": [],
   "source": [
    "class OverloadedConstructors {\n",
    "public:\n",
    "    OverloadedConstructors(const int a) {std::cout << \"int constructor called\" << std::endl;}\n",
    "    OverloadedConstructors(const int a, const int b) {std::cout << \"two ints constructor called\" << std::endl;}\n",
    "    OverloadedConstructors(const double a) {std::cout << \"double constructor called\" << std::endl;}\n",
    "    OverloadedConstructors(const std::string & a) {std::cout << \"string constructor called\" << std::endl;}\n",
    "};"
   ]
  },
  {
   "cell_type": "code",
   "execution_count": 4,
   "metadata": {},
   "outputs": [
    {
     "name": "stdout",
     "output_type": "stream",
     "text": [
      "int constructor called\n",
      "two ints constructor called\n",
      "double constructor called\n",
      "string constructor called\n"
     ]
    }
   ],
   "source": [
    "OverloadedConstructors overloaded_constructors_instance_1 {2};\n",
    "OverloadedConstructors overloaded_constructors_instance_2 {2, 4};\n",
    "OverloadedConstructors overloaded_constructors_instance_3 {2.4};\n",
    "OverloadedConstructors overloaded_constructors_instance_4 {\"two\"};"
   ]
  },
  {
   "cell_type": "markdown",
   "metadata": {},
   "source": [
    "### Default constructor"
   ]
  },
  {
   "cell_type": "markdown",
   "metadata": {},
   "source": [
    "The default constructor is the no-argument constructor."
   ]
  },
  {
   "cell_type": "code",
   "execution_count": 5,
   "metadata": {},
   "outputs": [],
   "source": [
    "class DefaultConstructor {\n",
    "public:\n",
    "    DefaultConstructor() {std::cout << \"Default constructor called\" << std::endl;}\n",
    "}"
   ]
  },
  {
   "cell_type": "code",
   "execution_count": 6,
   "metadata": {},
   "outputs": [
    {
     "name": "stdout",
     "output_type": "stream",
     "text": [
      "Default constructor called\n"
     ]
    }
   ],
   "source": [
    "DefaultConstructor default_constructor_instance_1; // Calls the default constructor"
   ]
  },
  {
   "cell_type": "markdown",
   "metadata": {},
   "source": [
    "If we do not specify one, C++ will provide a default (empty) one:"
   ]
  },
  {
   "cell_type": "code",
   "execution_count": 7,
   "metadata": {},
   "outputs": [],
   "source": [
    "class ImplicitDefaultConstructor {};"
   ]
  },
  {
   "cell_type": "code",
   "execution_count": 9,
   "metadata": {},
   "outputs": [],
   "source": [
    "// Fine, uses the C++ provided default\n",
    "ImplicitDefaultConstructor implicit_default_constructor_instance_1;"
   ]
  },
  {
   "cell_type": "markdown",
   "metadata": {},
   "source": [
    "However if we provide **any** of our own constructors then C++ will not provide a default one:"
   ]
  },
  {
   "cell_type": "code",
   "execution_count": 10,
   "metadata": {},
   "outputs": [],
   "source": [
    "class CustomConstructor {\n",
    "public:\n",
    "    CustomConstructor(const int a) {}\n",
    "}"
   ]
  },
  {
   "cell_type": "code",
   "execution_count": 11,
   "metadata": {},
   "outputs": [
    {
     "name": "stderr",
     "output_type": "stream",
     "text": [
      "input_line_17:2:20: error: no matching constructor for initialization of 'CustomConstructor'\n",
      " CustomConstructor custom_construcor_instance_1; // Invalid - there is no default constructor\n",
      "                   ^\n",
      "input_line_16:3:5: note: candidate constructor not viable: requires single argument 'a', but no arguments were provided\n",
      "    CustomConstructor(const int a) {}\n",
      "    ^\n",
      "input_line_16:1:7: note: candidate constructor (the implicit copy constructor) not viable: requires 1 argument, but 0 were provided\n",
      "class CustomConstructor {\n",
      "      ^\n",
      "input_line_16:1:7: note: candidate constructor (the implicit move constructor) not viable: requires 1 argument, but 0 were provided\n"
     ]
    },
    {
     "ename": "Interpreter Error",
     "evalue": "",
     "output_type": "error",
     "traceback": [
      "Interpreter Error: "
     ]
    }
   ],
   "source": [
    "CustomConstructor custom_constructor_instance_1; // Invalid - there is no default constructor"
   ]
  },
  {
   "cell_type": "markdown",
   "metadata": {},
   "source": [
    "But we can get the C++ provided one back it back by explicitly setting it to default:"
   ]
  },
  {
   "cell_type": "code",
   "execution_count": 12,
   "metadata": {},
   "outputs": [],
   "source": [
    "class CustomConstructorWithDefault {\n",
    "public:\n",
    "    CustomConstructorWithDefault(const int a) {}\n",
    "    CustomConstructorWithDefault() = default;\n",
    "};"
   ]
  },
  {
   "cell_type": "code",
   "execution_count": 13,
   "metadata": {},
   "outputs": [],
   "source": [
    "// Fine, we now have a default constructor\n",
    "CustomConstructorWithDefault custom_constructor_with_default_instance_1;"
   ]
  },
  {
   "cell_type": "markdown",
   "metadata": {},
   "source": [
    "### Deleting constructors"
   ]
  },
  {
   "cell_type": "markdown",
   "metadata": {},
   "source": [
    "Very occasionally we might want to prevent a class from being instantiated, for example a purely static class (a namespace would be better, unless using templates!).  To do this we need to explicitly say we do not want the C++ provided constructor (as we do not want any constructor), which we can do by setting it to `delete`:"
   ]
  },
  {
   "cell_type": "code",
   "execution_count": 14,
   "metadata": {},
   "outputs": [],
   "source": [
    "class DeletedConstructor {\n",
    "private:\n",
    "    static const int a {10};\n",
    "public:\n",
    "    DeletedConstructor() = delete;\n",
    "    static void DoSomething() {std::cout << \"can still access static members: \" << a << std::endl;}\n",
    "}"
   ]
  },
  {
   "cell_type": "code",
   "execution_count": 16,
   "metadata": {},
   "outputs": [
    {
     "name": "stderr",
     "output_type": "stream",
     "text": [
      "input_line_22:2:21: error: call to deleted constructor of 'DeletedConstructor'\n",
      " DeletedConstructor deleted_constructor_instance_1; // Error - no constructor\n",
      "                    ^\n",
      "input_line_20:5:5: note: 'DeletedConstructor' has been explicitly marked deleted here\n",
      "    DeletedConstructor() = delete;\n",
      "    ^\n"
     ]
    },
    {
     "ename": "Interpreter Error",
     "evalue": "",
     "output_type": "error",
     "traceback": [
      "Interpreter Error: "
     ]
    }
   ],
   "source": [
    "DeletedConstructor deleted_constructor_instance_1; // Error - no constructor"
   ]
  },
  {
   "cell_type": "code",
   "execution_count": 18,
   "metadata": {},
   "outputs": [
    {
     "name": "stdout",
     "output_type": "stream",
     "text": [
      "can still access static members: 10\n"
     ]
    }
   ],
   "source": [
    "DeletedConstructor::DoSomething(); // Can still access static members"
   ]
  },
  {
   "cell_type": "code",
   "execution_count": null,
   "metadata": {},
   "outputs": [],
   "source": []
  }
 ],
 "metadata": {
  "kernelspec": {
   "display_name": "C++14",
   "language": "C++14",
   "name": "xcpp14"
  },
  "language_info": {
   "codemirror_mode": "text/x-c++src",
   "file_extension": ".cpp",
   "mimetype": "text/x-c++src",
   "name": "c++",
   "version": "14"
  }
 },
 "nbformat": 4,
 "nbformat_minor": 4
}
