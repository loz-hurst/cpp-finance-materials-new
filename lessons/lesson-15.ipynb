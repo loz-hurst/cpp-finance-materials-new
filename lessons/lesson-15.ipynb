{
 "cells": [
  {
   "cell_type": "markdown",
   "metadata": {},
   "source": [
    "# Lesson 15 - Advanced construction and small types"
   ]
  },
  {
   "cell_type": "markdown",
   "metadata": {},
   "source": [
    "This notebook supports the materials in [lesson 15 of C++ for Finance](https://loz-hurst.github.io/cpp-finance-materials-new/lessons/lesson-15.html)."
   ]
  },
  {
   "cell_type": "markdown",
   "metadata": {},
   "source": [
    "## Constructors"
   ]
  },
  {
   "cell_type": "markdown",
   "metadata": {},
   "source": [
    "Recall that constructors can be called explicitly or implicitly:"
   ]
  },
  {
   "cell_type": "code",
   "execution_count": null,
   "metadata": {},
   "outputs": [],
   "source": [
    "class MyFirstClass {\n",
    "public:\n",
    "    MyFirstClass(const int a) {}\n",
    "};"
   ]
  },
  {
   "cell_type": "code",
   "execution_count": null,
   "metadata": {},
   "outputs": [],
   "source": [
    "MyFirstClass my_first_class_instance_1 {2}; // Explicit call"
   ]
  },
  {
   "cell_type": "code",
   "execution_count": null,
   "metadata": {},
   "outputs": [],
   "source": [
    "MyFirstClass my_first_class_instance_2 = 2; // Implicit call"
   ]
  },
  {
   "cell_type": "markdown",
   "metadata": {},
   "source": [
    "We can prevent implicit conversion by adding the keyword `explicit` to the constructor:"
   ]
  },
  {
   "cell_type": "code",
   "execution_count": null,
   "metadata": {},
   "outputs": [],
   "source": [
    "class MySecondClass {\n",
    "public:\n",
    "    explicit MySecondClass(const int a) {}\n",
    "};"
   ]
  },
  {
   "cell_type": "code",
   "execution_count": null,
   "metadata": {},
   "outputs": [],
   "source": [
    "MySecondClass my_second_class_instance_1 {2}; // Explicit call - fine"
   ]
  },
  {
   "cell_type": "code",
   "execution_count": null,
   "metadata": {
    "scrolled": true
   },
   "outputs": [],
   "source": [
    "MySecondClass my_second_class_instance_2 = 2; // Implicit call - fail"
   ]
  },
  {
   "cell_type": "markdown",
   "metadata": {},
   "source": [
    "### Overloading constructors"
   ]
  },
  {
   "cell_type": "markdown",
   "metadata": {},
   "source": [
    "We can overload constructors, just like functions:"
   ]
  },
  {
   "cell_type": "code",
   "execution_count": null,
   "metadata": {},
   "outputs": [],
   "source": [
    "#include <string>\n",
    "#include <iostream>"
   ]
  },
  {
   "cell_type": "code",
   "execution_count": null,
   "metadata": {},
   "outputs": [],
   "source": [
    "class OverloadedConstructors {\n",
    "public:\n",
    "    OverloadedConstructors(const int a) {std::cout << \"int constructor called\" << std::endl;}\n",
    "    OverloadedConstructors(const int a, const int b) {std::cout << \"two ints constructor called\" << std::endl;}\n",
    "    OverloadedConstructors(const double a) {std::cout << \"double constructor called\" << std::endl;}\n",
    "    OverloadedConstructors(const std::string & a) {std::cout << \"string constructor called\" << std::endl;}\n",
    "};"
   ]
  },
  {
   "cell_type": "code",
   "execution_count": null,
   "metadata": {},
   "outputs": [],
   "source": [
    "OverloadedConstructors overloaded_constructors_instance_1 {2};\n",
    "OverloadedConstructors overloaded_constructors_instance_2 {2, 4};\n",
    "OverloadedConstructors overloaded_constructors_instance_3 {2.4};\n",
    "OverloadedConstructors overloaded_constructors_instance_4 {\"two\"};"
   ]
  },
  {
   "cell_type": "markdown",
   "metadata": {},
   "source": [
    "### Default constructor"
   ]
  },
  {
   "cell_type": "markdown",
   "metadata": {},
   "source": [
    "The default constructor is the no-argument constructor."
   ]
  },
  {
   "cell_type": "code",
   "execution_count": null,
   "metadata": {},
   "outputs": [],
   "source": [
    "class DefaultConstructor {\n",
    "public:\n",
    "    DefaultConstructor() {std::cout << \"Default constructor called\" << std::endl;}\n",
    "}"
   ]
  },
  {
   "cell_type": "code",
   "execution_count": null,
   "metadata": {},
   "outputs": [],
   "source": [
    "DefaultConstructor default_constructor_instance_1; // Calls the default constructor"
   ]
  },
  {
   "cell_type": "markdown",
   "metadata": {},
   "source": [
    "If we do not specify one, C++ will provide a default (empty) one:"
   ]
  },
  {
   "cell_type": "code",
   "execution_count": null,
   "metadata": {},
   "outputs": [],
   "source": [
    "class ImplicitDefaultConstructor {};"
   ]
  },
  {
   "cell_type": "code",
   "execution_count": null,
   "metadata": {},
   "outputs": [],
   "source": [
    "// Fine, uses the C++ provided default\n",
    "ImplicitDefaultConstructor implicit_default_constructor_instance_1;"
   ]
  },
  {
   "cell_type": "markdown",
   "metadata": {},
   "source": [
    "However if we provide **any** of our own constructors then C++ will not provide a default one:"
   ]
  },
  {
   "cell_type": "code",
   "execution_count": null,
   "metadata": {},
   "outputs": [],
   "source": [
    "class CustomConstructor {\n",
    "public:\n",
    "    CustomConstructor(const int a) {}\n",
    "}"
   ]
  },
  {
   "cell_type": "code",
   "execution_count": null,
   "metadata": {},
   "outputs": [],
   "source": [
    "CustomConstructor custom_constructor_instance_1; // Invalid - there is no default constructor"
   ]
  },
  {
   "cell_type": "markdown",
   "metadata": {},
   "source": [
    "But we can get the C++ provided one back it back by explicitly setting it to default:"
   ]
  },
  {
   "cell_type": "code",
   "execution_count": null,
   "metadata": {},
   "outputs": [],
   "source": [
    "class CustomConstructorWithDefault {\n",
    "public:\n",
    "    CustomConstructorWithDefault(const int a) {}\n",
    "    CustomConstructorWithDefault() = default;\n",
    "};"
   ]
  },
  {
   "cell_type": "code",
   "execution_count": null,
   "metadata": {},
   "outputs": [],
   "source": [
    "// Fine, we now have a default constructor\n",
    "CustomConstructorWithDefault custom_constructor_with_default_instance_1;"
   ]
  },
  {
   "cell_type": "markdown",
   "metadata": {},
   "source": [
    "### Deleting constructors"
   ]
  },
  {
   "cell_type": "markdown",
   "metadata": {},
   "source": [
    "Very occasionally we might want to prevent a class from being instantiated, for example a purely static class (a namespace would be better, unless using templates!).  To do this we need to explicitly say we do not want the C++ provided constructor (as we do not want any constructor), which we can do by setting it to `delete`:"
   ]
  },
  {
   "cell_type": "code",
   "execution_count": null,
   "metadata": {},
   "outputs": [],
   "source": [
    "class DeletedConstructor {\n",
    "private:\n",
    "    static const int a {10};\n",
    "public:\n",
    "    DeletedConstructor() = delete;\n",
    "    static void DoSomething() {std::cout << \"can still access static members: \" << a << std::endl;}\n",
    "}"
   ]
  },
  {
   "cell_type": "code",
   "execution_count": null,
   "metadata": {},
   "outputs": [],
   "source": [
    "DeletedConstructor deleted_constructor_instance_1; // Error - no constructor"
   ]
  },
  {
   "cell_type": "code",
   "execution_count": null,
   "metadata": {},
   "outputs": [],
   "source": [
    "DeletedConstructor::DoSomething(); // Can still access static members"
   ]
  },
  {
   "cell_type": "markdown",
   "metadata": {},
   "source": [
    "### Delegating constructors"
   ]
  },
  {
   "cell_type": "markdown",
   "metadata": {},
   "source": [
    "We have already seen how to call a base class's constructor using the initialiser list.  We can also use this to call another constructor within the same class:"
   ]
  },
  {
   "cell_type": "code",
   "execution_count": null,
   "metadata": {},
   "outputs": [],
   "source": [
    "class DelegatingConstructors {\n",
    "public:\n",
    "    DelegatingConstructors(const int a, const int b) {}\n",
    "    // This constructor delegates to the two value version\n",
    "    DelegatingConstructors(const int value) : DelegatingConstructors(value, value) {}\n",
    "};"
   ]
  },
  {
   "cell_type": "markdown",
   "metadata": {},
   "source": [
    "### Special member functions"
   ]
  },
  {
   "cell_type": "markdown",
   "metadata": {},
   "source": [
    "Discuss what they including `default`, `delete`, and rule of 5 (3) and zero."
   ]
  },
  {
   "cell_type": "markdown",
   "metadata": {},
   "source": [
    "Move constructor/operator and destructor must not throw."
   ]
  },
  {
   "cell_type": "markdown",
   "metadata": {},
   "source": [
    "### Copy constructor"
   ]
  },
  {
   "cell_type": "code",
   "execution_count": null,
   "metadata": {},
   "outputs": [],
   "source": [
    "class CopyConstructor {\n",
    "public:\n",
    "    CopyConstructor() = default;\n",
    "    CopyConstructor(const CopyConstructor & other) {std::cout << \"Copy constructor called\" << std::endl;}\n",
    "};"
   ]
  },
  {
   "cell_type": "code",
   "execution_count": null,
   "metadata": {},
   "outputs": [],
   "source": [
    "CopyConstructor copy_constructor_instance_1;"
   ]
  },
  {
   "cell_type": "code",
   "execution_count": null,
   "metadata": {},
   "outputs": [],
   "source": [
    "CopyConstructor copy_constructor_instance_2 {copy_constructor_instance_1};"
   ]
  },
  {
   "cell_type": "code",
   "execution_count": null,
   "metadata": {},
   "outputs": [],
   "source": [
    "// Note by-value passing\n",
    "void MyCopyConstructorFunction(CopyConstructor copy_constructor) {\n",
    "    std::cout << \"Called the function\" << std::endl;\n",
    "}"
   ]
  },
  {
   "cell_type": "code",
   "execution_count": null,
   "metadata": {},
   "outputs": [],
   "source": [
    "MyCopyConstructorFunction(copy_constructor_instance_2);"
   ]
  },
  {
   "cell_type": "markdown",
   "metadata": {},
   "source": [
    "### Temporary objects"
   ]
  },
  {
   "cell_type": "code",
   "execution_count": null,
   "metadata": {},
   "outputs": [],
   "source": [
    "int a {0}, b{1}, c{2};\n",
    "a = b + c;\n",
    "a = b; a += c; // Same thing, more efficient, less intuative"
   ]
  },
  {
   "cell_type": "code",
   "execution_count": null,
   "metadata": {},
   "outputs": [],
   "source": [
    "class TemporaryObjectExample {\n",
    "public:\n",
    "    TemporaryObjectExample() = default;\n",
    "    TemporaryObjectExample(const TemporaryObjectExample& other) : i_{0} {std::cout << \"Copy constructor called\" << std::endl;}\n",
    "};"
   ]
  },
  {
   "cell_type": "code",
   "execution_count": null,
   "metadata": {},
   "outputs": [],
   "source": [
    "TemporaryObjectExample MyTemporaryObjectFunction1() {\n",
    "    return TemporaryObjectExample();\n",
    "}"
   ]
  },
  {
   "cell_type": "code",
   "execution_count": null,
   "metadata": {},
   "outputs": [],
   "source": [
    "TemporaryObjectExample temporary_objects_example_instance_1 {MyTemporaryObjectFunction1()};"
   ]
  },
  {
   "cell_type": "markdown",
   "metadata": {},
   "source": [
    "### Converstion operators"
   ]
  },
  {
   "cell_type": "markdown",
   "metadata": {},
   "source": [
    "We already know that single argument constructors are called \"conversion constructors\" and, if not explicit, will automatically convert other types to our classes.  We can also specify converstions from our class to other types using converstion operator methods:  (n.b. do not provide both if converting between two types - the compiler will not know which to use!)"
   ]
  },
  {
   "cell_type": "code",
   "execution_count": null,
   "metadata": {},
   "outputs": [],
   "source": [
    "class MyConverstion1 {\n",
    "public:\n",
    "    MyConverstion1(const int a) {} // Convert from an int\n",
    "    operator int() {return 4;} // Convert to an int\n",
    "};"
   ]
  },
  {
   "cell_type": "code",
   "execution_count": null,
   "metadata": {},
   "outputs": [],
   "source": [
    "class MyConverstion2 {\n",
    "public:\n",
    "    MyConverstion2(const int a) {} // Convert from an int\n",
    "    explicit operator int() {return 3;} // Convert to an int\n",
    "};"
   ]
  },
  {
   "cell_type": "code",
   "execution_count": null,
   "metadata": {},
   "outputs": [],
   "source": [
    "MyConverstion1 my_conversion_instance_1 {2}; // Explicit conversion rfom int with MyConversion1\n",
    "MyConverstion2 my_conversion_instance_2 = 3; // Implicit conversion from int with MyConversion2"
   ]
  },
  {
   "cell_type": "code",
   "execution_count": null,
   "metadata": {},
   "outputs": [],
   "source": [
    "int my_conversion_int_1 {my_conversion_instance_1}; // explicit conversion to int\n",
    "int my_conversion_int_2 = my_conversion_instance_1; // Implicit conversion to int\n",
    "std::cout << my_conversion_int_1 << std::endl\n",
    "          << my_conversion_int_2 << std::endl;"
   ]
  },
  {
   "cell_type": "code",
   "execution_count": null,
   "metadata": {},
   "outputs": [],
   "source": [
    "int my_conversion_int_3 {my_conversion_instance_2}; // explicit conversion to int - fine\n",
    "std::cout << my_conversion_int_3 << std::endl;"
   ]
  },
  {
   "cell_type": "code",
   "execution_count": null,
   "metadata": {},
   "outputs": [],
   "source": [
    "int my_conversion_int_4 = my_conversion_instance_2; // Fail - implicit conversion to int"
   ]
  },
  {
   "cell_type": "markdown",
   "metadata": {},
   "source": [
    "## Small types"
   ]
  },
  {
   "cell_type": "markdown",
   "metadata": {},
   "source": [
    "### `std::pair`"
   ]
  },
  {
   "cell_type": "markdown",
   "metadata": {},
   "source": [
    "We met `std::pair` when looking at maps.  It is in the `utility` header:"
   ]
  },
  {
   "cell_type": "code",
   "execution_count": null,
   "metadata": {},
   "outputs": [],
   "source": [
    "#include <utility>"
   ]
  },
  {
   "cell_type": "code",
   "execution_count": null,
   "metadata": {},
   "outputs": [],
   "source": [
    "std::pair<int, std::string> my_pair {2, \"Hi there!\"};"
   ]
  },
  {
   "cell_type": "code",
   "execution_count": null,
   "metadata": {},
   "outputs": [],
   "source": [
    "std::cout << my_pair.first << \", \" << my_pair.second << std::endl;"
   ]
  },
  {
   "cell_type": "markdown",
   "metadata": {},
   "source": [
    "### `std::tuple`"
   ]
  },
  {
   "cell_type": "markdown",
   "metadata": {},
   "source": [
    "These are a generalised version of pair that can hold may (different typed) values.  It is in the `tuple` header:"
   ]
  },
  {
   "cell_type": "code",
   "execution_count": null,
   "metadata": {},
   "outputs": [],
   "source": [
    "#include <tuple>"
   ]
  },
  {
   "cell_type": "code",
   "execution_count": null,
   "metadata": {},
   "outputs": [],
   "source": [
    "std::tuple<int, std::string, double, int> my_tuple {7, \"Foo Bar\", 2.3, 1009};"
   ]
  },
  {
   "cell_type": "code",
   "execution_count": null,
   "metadata": {},
   "outputs": [],
   "source": [
    "std::tuple<int, std::string, double, int> my_other_tuple =\n",
    "    std::make_tuple<int, std::string, double, int>(8, \"banana\", 0.3, -1);"
   ]
  },
  {
   "cell_type": "code",
   "execution_count": null,
   "metadata": {},
   "outputs": [],
   "source": [
    "std::cout << std::get<0>(my_tuple) << std::endl; // Use std::get for member access"
   ]
  },
  {
   "cell_type": "code",
   "execution_count": null,
   "metadata": {},
   "outputs": [],
   "source": [
    "// Can get by type but only if there is just 1 of that type\n",
    "std::cout << std::get<double>(my_tuple) << std::endl;"
   ]
  },
  {
   "cell_type": "code",
   "execution_count": null,
   "metadata": {},
   "outputs": [],
   "source": [
    "std::cout << std::get<int>(my_tuple) << std::endl; // Error - 2 ints in tuple"
   ]
  },
  {
   "cell_type": "code",
   "execution_count": null,
   "metadata": {},
   "outputs": [],
   "source": [
    "int unpacked_int_a{0}, unpacked_int_b{0};\n",
    "std::string unpacked_str;\n",
    "double unpacked_dbl {0.0};\n",
    "// We can used std::tie to unpack a typle into variables\n",
    "std::tie(unpacked_int_a, unpacked_str, unpacked_dbl, unpacked_int_b) = my_tuple;\n",
    "std::cout << unpacked_int_a << \", \"\n",
    "          << unpacked_str << \", \"\n",
    "          << unpacked_dbl << \", \"\n",
    "          << unpacked_int_b << std::endl;"
   ]
  },
  {
   "cell_type": "code",
   "execution_count": null,
   "metadata": {},
   "outputs": [],
   "source": [
    "int unpacked_int_c{0}, unpacked_int_d{0};\n",
    "// Use std::ignore if we only one some values from the tuple\n",
    "std::tie(unpacked_int_c, std::ignore, std::ignore, unpacked_int_d) = my_tuple;\n",
    "std::cout << unpacked_int_c << \", \"\n",
    "          << unpacked_int_d << std::endl;"
   ]
  },
  {
   "cell_type": "markdown",
   "metadata": {},
   "source": [
    "### `std::array`"
   ]
  },
  {
   "cell_type": "markdown",
   "metadata": {},
   "source": [
    "`std::array` is a very thin shim around C arrays but, crucially, it knows its own size (as well as having usual C++ container methods) which C arrays do not.  It can only be used if the size is known at compile time."
   ]
  },
  {
   "cell_type": "code",
   "execution_count": null,
   "metadata": {},
   "outputs": [],
   "source": [
    "std::array<int, 5> my_array; // New array of 5 integers"
   ]
  },
  {
   "cell_type": "code",
   "execution_count": null,
   "metadata": {},
   "outputs": [],
   "source": [
    "void UsesArray(const int size) {\n",
    "    std::array<int, size> some_array; // Error, size not known at compiler time\n",
    "}"
   ]
  },
  {
   "cell_type": "code",
   "execution_count": null,
   "metadata": {},
   "outputs": [],
   "source": [
    "std::cout << my_array.size() << std::endl;"
   ]
  }
 ],
 "metadata": {
  "kernelspec": {
   "display_name": "C++14",
   "language": "C++14",
   "name": "xcpp14"
  },
  "language_info": {
   "codemirror_mode": "text/x-c++src",
   "file_extension": ".cpp",
   "mimetype": "text/x-c++src",
   "name": "c++",
   "version": "14"
  }
 },
 "nbformat": 4,
 "nbformat_minor": 4
}
