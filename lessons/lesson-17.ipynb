{
 "cells": [
  {
   "cell_type": "markdown",
   "metadata": {},
   "source": [
    "# Lesson 17 - Design Patterns"
   ]
  },
  {
   "cell_type": "code",
   "execution_count": null,
   "metadata": {},
   "outputs": [],
   "source": [
    "#include <iostream>\n",
    "#include <vector>\n",
    "#include <fstream>\n",
    "#include <string>\n",
    "#include <memory>"
   ]
  },
  {
   "cell_type": "markdown",
   "metadata": {},
   "source": [
    "## Parameters packs"
   ]
  },
  {
   "cell_type": "code",
   "execution_count": null,
   "metadata": {},
   "outputs": [],
   "source": [
    "template<typename ...Ts>\n",
    "void MyPPFunction(Ts... args) {\n",
    "    std::cout << \"I was passed \" << sizeof...(args) << \" arguments\" << std::endl;\n",
    "}"
   ]
  },
  {
   "cell_type": "code",
   "execution_count": null,
   "metadata": {},
   "outputs": [],
   "source": [
    "MyPPFunction(1, 3, 4);\n",
    "MyPPFunction(\"Hello world\", \"Hi there\");"
   ]
  },
  {
   "cell_type": "code",
   "execution_count": null,
   "metadata": {},
   "outputs": [],
   "source": [
    "template<typename ...Ts>\n",
    "std::vector<std::common_type_t<Ts...>> make_vector(Ts... args) {\n",
    "    return std::vector<std::common_type_t<Ts...>> {args...};\n",
    "}"
   ]
  },
  {
   "cell_type": "code",
   "execution_count": null,
   "metadata": {},
   "outputs": [],
   "source": [
    "auto my_vector {make_vector(1, 2, 3, 4, 5, 6)};\n",
    "std::cout << \"my_vector has \" << my_vector.size() << \" elements\" << std::endl;"
   ]
  },
  {
   "cell_type": "code",
   "execution_count": null,
   "metadata": {},
   "outputs": [],
   "source": [
    "template<typename T>\n",
    "void PrintList(T arg) {\n",
    "    std::cout << arg << std::endl;\n",
    "}\n",
    "\n",
    "template<typename T, typename ...Ts>\n",
    "void PrintList(T arg, Ts... args) {\n",
    "    std::cout << arg << \", \";\n",
    "    PrintList(args...);\n",
    "}"
   ]
  },
  {
   "cell_type": "code",
   "execution_count": null,
   "metadata": {},
   "outputs": [],
   "source": [
    "PrintList(1, 2, 3, \"hello world\", 5.5, 7, \"end\");"
   ]
  },
  {
   "cell_type": "markdown",
   "metadata": {},
   "source": [
    "## Initialiser lists"
   ]
  },
  {
   "cell_type": "code",
   "execution_count": null,
   "metadata": {},
   "outputs": [],
   "source": [
    "template<typename T>\n",
    "void MyInitFunction(std::initializer_list<T> args) {\n",
    "    for (const auto& arg: args) {\n",
    "        std::cout << \"Argument: \" << arg << std::endl;\n",
    "    }\n",
    "}"
   ]
  },
  {
   "cell_type": "code",
   "execution_count": null,
   "metadata": {},
   "outputs": [],
   "source": [
    "MyInitFunction({1, 2, 3, 4, 5});\n",
    "MyInitFunction({\"Hi\", \"there\"});"
   ]
  },
  {
   "cell_type": "code",
   "execution_count": null,
   "metadata": {},
   "outputs": [],
   "source": [
    "MyInitFunction({1, 2, 3, 4, \"Hi\"}); // Error - not the same types"
   ]
  },
  {
   "cell_type": "code",
   "execution_count": null,
   "metadata": {},
   "outputs": [],
   "source": [
    "// Note - no template now\n",
    "void MyInitIntFunction(std::initializer_list<int> args) {\n",
    "    for (const auto& arg: args) {\n",
    "        std::cout << \"Argument: \" << arg << std::endl;\n",
    "    }\n",
    "}"
   ]
  },
  {
   "cell_type": "code",
   "execution_count": null,
   "metadata": {},
   "outputs": [],
   "source": [
    "MyInitIntFunction({1, 2, 3, 4});"
   ]
  },
  {
   "cell_type": "code",
   "execution_count": null,
   "metadata": {},
   "outputs": [],
   "source": [
    "MyInitIntFunction({1.2, 1.3}); // Error - not int"
   ]
  },
  {
   "cell_type": "markdown",
   "metadata": {},
   "source": [
    "## Design patterns"
   ]
  },
  {
   "cell_type": "markdown",
   "metadata": {},
   "source": [
    "This is a huge area in software development - there are [a lot of books on this topic](https://www.amazon.co.uk/s?k=design+patterns&ref=nb_sb_noss)."
   ]
  },
  {
   "cell_type": "markdown",
   "metadata": {},
   "source": [
    "### Singleton"
   ]
  },
  {
   "cell_type": "code",
   "execution_count": null,
   "metadata": {},
   "outputs": [],
   "source": [
    "struct Configuration {\n",
    "    std::unique_ptr<std::ifstream> input_file;\n",
    "    // Any other program-wide configuration options\n",
    "};"
   ]
  },
  {
   "cell_type": "code",
   "execution_count": null,
   "metadata": {},
   "outputs": [],
   "source": [
    "class ProgramConfiguration {\n",
    "public:\n",
    "    Configuration& GetConfiguration() {return configuration_;}\n",
    "    static ProgramConfiguration& GetInstance() {\n",
    "        static ProgramConfiguration instance; // Create an instance\n",
    "        return instance; // Return the only instance\n",
    "    }\n",
    "private:\n",
    "    ProgramConfiguration(); // Default constructor is private\n",
    "    ProgramConfiguration(const ProgramConfiguration& other) = delete; // Do not allow the instance to be copied\n",
    "    ProgramConfiguration(const ProgramConfiguration&& other) = delete; // Do not allow the instance to be moved\n",
    "    ProgramConfiguration& operator=(const ProgramConfiguration &rhs) const = delete; //disallow copy-assignment operator\n",
    "    ProgramConfiguration& operator=(const ProgramConfiguration &&rhs) const = delete; //disallow move-assignment operator\n",
    "    ~ProgramConfiguration() {} // Private destructor controls who can destroy the object\n",
    "    Configuration configuration_;\n",
    "};"
   ]
  },
  {
   "cell_type": "code",
   "execution_count": null,
   "metadata": {},
   "outputs": [],
   "source": [
    "// Deletages with a default filename\n",
    "ProgramConfiguration::ProgramConfiguration() {\n",
    "    std::string filename {\"input.dat\"}; // Load configuration from file or database\n",
    "    \n",
    "    // Use that to instantiate the configuration value in our (only) instance\n",
    "    configuration_ = Configuration {std::make_unique<std::ifstream>(filename)};\n",
    "} "
   ]
  },
  {
   "cell_type": "markdown",
   "metadata": {},
   "source": [
    "### Factory"
   ]
  },
  {
   "cell_type": "code",
   "execution_count": null,
   "metadata": {},
   "outputs": [],
   "source": [
    "struct OptionData {\n",
    "    // Option data struct for common data\n",
    "};"
   ]
  },
  {
   "cell_type": "code",
   "execution_count": null,
   "metadata": {},
   "outputs": [],
   "source": [
    "// Base class for all our options\n",
    "class Option {\n",
    "protected:\n",
    "    OptionData data_; // Member for initial data\n",
    "public:\n",
    "    Option(const OptionData& initial_data) : data_ {initial_data} { }\n",
    "    virtual double GetPayoff() const = 0;\n",
    "};"
   ]
  },
  {
   "cell_type": "code",
   "execution_count": null,
   "metadata": {},
   "outputs": [],
   "source": [
    "class EurCall : public Option {\n",
    "public:\n",
    "    EurCall(const OptionData& initial_data) : Option(initial_data) { }\n",
    "    double GetPayoff() const { return 3; } // Should calculate!\n",
    "};"
   ]
  },
  {
   "cell_type": "code",
   "execution_count": null,
   "metadata": {},
   "outputs": [],
   "source": [
    "class EurPut : public Option {\n",
    "public:\n",
    "    EurPut(const OptionData& initial_data) : Option(initial_data) { }\n",
    "    double GetPayoff() const { return 1; } // Should calculate!\n",
    "};"
   ]
  },
  {
   "cell_type": "code",
   "execution_count": null,
   "metadata": {},
   "outputs": [],
   "source": [
    "class AsianCall : public Option {\n",
    "public:\n",
    "    AsianCall(const OptionData& initial_data) : Option(initial_data) { }\n",
    "    double GetPayoff() const { return 2; } // Should calculate!\n",
    "};"
   ]
  },
  {
   "cell_type": "code",
   "execution_count": null,
   "metadata": {},
   "outputs": [],
   "source": [
    "enum class OptionType {\n",
    "    EurCall,\n",
    "    EurPut,\n",
    "    AsianCall,\n",
    "    // etc.\n",
    "};"
   ]
  },
  {
   "cell_type": "code",
   "execution_count": null,
   "metadata": {},
   "outputs": [],
   "source": [
    "std::unique_ptr<Option> MyOptionFactory(const OptionType type, const OptionData& initial_data) {\n",
    "    switch(type) {\n",
    "        case OptionType::EurCall:\n",
    "            return std::make_unique<EurCall>(initial_data);\n",
    "        case OptionType::EurPut:\n",
    "            return std::make_unique<EurPut>(initial_data);\n",
    "        case OptionType::AsianCall:\n",
    "            return std::make_unique<AsianCall>(initial_data);\n",
    "    }\n",
    "}"
   ]
  },
  {
   "cell_type": "code",
   "execution_count": null,
   "metadata": {},
   "outputs": [],
   "source": [
    "std::unique_ptr<Option> my_call {MyOptionFactory(OptionType::EurCall, OptionData{})};"
   ]
  },
  {
   "cell_type": "code",
   "execution_count": null,
   "metadata": {},
   "outputs": [],
   "source": [
    "std::cout << my_call->GetPayoff() << std::endl;"
   ]
  },
  {
   "cell_type": "code",
   "execution_count": null,
   "metadata": {},
   "outputs": [],
   "source": [
    "my_call = MyOptionFactory(OptionType::AsianCall, OptionData{}); // Move assignment - valid"
   ]
  },
  {
   "cell_type": "code",
   "execution_count": null,
   "metadata": {},
   "outputs": [],
   "source": [
    "std::cout << my_call->GetPayoff() << std::endl;"
   ]
  },
  {
   "cell_type": "code",
   "execution_count": null,
   "metadata": {},
   "outputs": [],
   "source": []
  }
 ],
 "metadata": {
  "kernelspec": {
   "display_name": "C++14",
   "language": "C++14",
   "name": "xcpp14"
  },
  "language_info": {
   "codemirror_mode": "text/x-c++src",
   "file_extension": ".cpp",
   "mimetype": "text/x-c++src",
   "name": "c++",
   "version": "14"
  }
 },
 "nbformat": 4,
 "nbformat_minor": 4
}
