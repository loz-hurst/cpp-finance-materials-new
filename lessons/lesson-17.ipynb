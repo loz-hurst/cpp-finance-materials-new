{
 "cells": [
  {
   "cell_type": "markdown",
   "metadata": {},
   "source": [
    "# Lesson 17 - Design Patterns"
   ]
  },
  {
   "cell_type": "code",
   "execution_count": 21,
   "metadata": {},
   "outputs": [],
   "source": [
    "#include <iostream>\n",
    "#include <string>\n",
    "#include <vector>\n",
    "#include <fstream>\n",
    "#include <memory>"
   ]
  },
  {
   "cell_type": "markdown",
   "metadata": {},
   "source": [
    "## Parameters packs"
   ]
  },
  {
   "cell_type": "code",
   "execution_count": null,
   "metadata": {},
   "outputs": [],
   "source": [
    "template<typename ...Ts>\n",
    "void MyPPFunction(Ts... args) {\n",
    "    std::cout << \"I was passed \" << sizeof...(args) << \" arguments\" << std::endl;\n",
    "}"
   ]
  },
  {
   "cell_type": "code",
   "execution_count": null,
   "metadata": {},
   "outputs": [],
   "source": [
    "MyPPFunction(1, 3, 4);\n",
    "MyPPFunction(\"Hello world\", \"Hi there\");"
   ]
  },
  {
   "cell_type": "code",
   "execution_count": null,
   "metadata": {},
   "outputs": [],
   "source": [
    "template<typename ...Ts>\n",
    "std::vector<std::common_type_t<Ts...>> make_vector(Ts... args) {\n",
    "    return std::vector<std::common_type_t<Ts...>> {args...};\n",
    "}"
   ]
  },
  {
   "cell_type": "code",
   "execution_count": null,
   "metadata": {},
   "outputs": [],
   "source": [
    "auto my_vector {make_vector(1, 2, 3, 4, 5, 6)};\n",
    "std::cout << \"my_vector has \" << my_vector.size() << \" elements\" << std::endl;"
   ]
  },
  {
   "cell_type": "code",
   "execution_count": null,
   "metadata": {},
   "outputs": [],
   "source": [
    "template<typename T>\n",
    "void PrintList(T arg) {\n",
    "    std::cout << arg << std::endl;\n",
    "}\n",
    "\n",
    "template<typename T, typename ...Ts>\n",
    "void PrintList(T arg, Ts... args) {\n",
    "    std::cout << arg << \", \";\n",
    "    PrintList(args...);\n",
    "}"
   ]
  },
  {
   "cell_type": "code",
   "execution_count": null,
   "metadata": {},
   "outputs": [],
   "source": [
    "PrintList(1, 2, 3, \"hello world\", 5.5, 7, \"end\");"
   ]
  },
  {
   "cell_type": "markdown",
   "metadata": {},
   "source": [
    "## Initialiser lists"
   ]
  },
  {
   "cell_type": "code",
   "execution_count": 2,
   "metadata": {},
   "outputs": [],
   "source": [
    "template<typename T>\n",
    "void MyInitFunction(std::initializer_list<T> args) {\n",
    "    for (const auto& arg: args) {\n",
    "        std::cout << \"Argument: \" << arg << std::endl;\n",
    "    }\n",
    "}"
   ]
  },
  {
   "cell_type": "code",
   "execution_count": 3,
   "metadata": {},
   "outputs": [
    {
     "name": "stdout",
     "output_type": "stream",
     "text": [
      "Argument: 1\n",
      "Argument: 2\n",
      "Argument: 3\n",
      "Argument: 4\n",
      "Argument: 5\n",
      "Argument: Hi\n",
      "Argument: there\n"
     ]
    }
   ],
   "source": [
    "MyInitFunction({1, 2, 3, 4, 5});\n",
    "MyInitFunction({\"Hi\", \"there\"});"
   ]
  },
  {
   "cell_type": "code",
   "execution_count": 4,
   "metadata": {},
   "outputs": [
    {
     "name": "stderr",
     "output_type": "stream",
     "text": [
      "input_line_10:2:2: error: no matching function for call to 'MyFunction'\n",
      " MyFunction({1, 2, 3, 4, \"Hi\"}); // Error - not the same types\n",
      " ^~~~~~~~~~\n",
      "input_line_8:2:6: note: candidate template ignored: deduced conflicting types for parameter 'T' ('int' vs. 'const char *')\n",
      "void MyFunction(std::initializer_list<T> args) {\n",
      "     ^\n"
     ]
    },
    {
     "ename": "Interpreter Error",
     "evalue": "",
     "output_type": "error",
     "traceback": [
      "Interpreter Error: "
     ]
    }
   ],
   "source": [
    "MyInitFunction({1, 2, 3, 4, \"Hi\"}); // Error - not the same types"
   ]
  },
  {
   "cell_type": "code",
   "execution_count": 5,
   "metadata": {},
   "outputs": [],
   "source": [
    "// Note - no template now\n",
    "void MyInitIntFunction(std::initializer_list<int> args) {\n",
    "    for (const auto& arg: args) {\n",
    "        std::cout << \"Argument: \" << arg << std::endl;\n",
    "    }\n",
    "}"
   ]
  },
  {
   "cell_type": "code",
   "execution_count": 6,
   "metadata": {},
   "outputs": [
    {
     "name": "stdout",
     "output_type": "stream",
     "text": [
      "Argument: 1\n",
      "Argument: 2\n",
      "Argument: 3\n",
      "Argument: 4\n"
     ]
    }
   ],
   "source": [
    "MyInitIntFunction({1, 2, 3, 4});"
   ]
  },
  {
   "cell_type": "code",
   "execution_count": 7,
   "metadata": {},
   "outputs": [
    {
     "name": "stderr",
     "output_type": "stream",
     "text": [
      "input_line_13:2:21: error: type 'double' cannot be narrowed to 'int' in initializer list [-Wc++11-narrowing]\n",
      " MyInitIntFunction({1.2, 1.3}); // Error - not int\n",
      "                    ^~~\n",
      "input_line_13:2:21: note: insert an explicit cast to silence this issue\n",
      " MyInitIntFunction({1.2, 1.3}); // Error - not int\n",
      "                    ^~~\n",
      "                    static_cast<int>( )\n",
      "input_line_13:2:26: error: type 'double' cannot be narrowed to 'int' in initializer list [-Wc++11-narrowing]\n",
      " MyInitIntFunction({1.2, 1.3}); // Error - not int\n",
      "                         ^~~\n",
      "input_line_13:2:26: note: insert an explicit cast to silence this issue\n",
      " MyInitIntFunction({1.2, 1.3}); // Error - not int\n",
      "                         ^~~\n",
      "                         static_cast<int>( )\n",
      "input_line_13:2:21: warning: implicit conversion from 'double' to 'int' changes value from 1.2 to 1 [-Wliteral-conversion]\n",
      " MyInitIntFunction({1.2, 1.3}); // Error - not int\n",
      "                   ~^~~\n",
      "input_line_13:2:26: warning: implicit conversion from 'double' to 'int' changes value from 1.3 to 1 [-Wliteral-conversion]\n",
      " MyInitIntFunction({1.2, 1.3}); // Error - not int\n",
      "                   ~     ^~~\n"
     ]
    },
    {
     "ename": "Interpreter Error",
     "evalue": "",
     "output_type": "error",
     "traceback": [
      "Interpreter Error: "
     ]
    }
   ],
   "source": [
    "MyInitIntFunction({1.2, 1.3}); // Error - not int"
   ]
  },
  {
   "cell_type": "markdown",
   "metadata": {},
   "source": [
    "## Design patterns"
   ]
  },
  {
   "cell_type": "markdown",
   "metadata": {},
   "source": [
    "This is a huge area in software development - there are [a lot of books on this topic](https://www.amazon.co.uk/s?k=design+patterns&ref=nb_sb_noss)."
   ]
  },
  {
   "cell_type": "markdown",
   "metadata": {},
   "source": [
    "### Singleton"
   ]
  },
  {
   "cell_type": "code",
   "execution_count": 10,
   "metadata": {},
   "outputs": [],
   "source": [
    "struct Configuration {\n",
    "    std::unique_ptr<std::ifstream> input_file;\n",
    "    // Any other program-wide configuration options\n",
    "};"
   ]
  },
  {
   "cell_type": "code",
   "execution_count": 22,
   "metadata": {},
   "outputs": [
    {
     "name": "stderr",
     "output_type": "stream",
     "text": [
      "input_line_28:1:7: error: redefinition of 'ProgramConfiguration'\n",
      "class ProgramConfiguration {\n",
      "      ^\n",
      "input_line_17:1:7: note: previous definition is here\n",
      "class ProgramConfiguration {\n",
      "      ^\n"
     ]
    },
    {
     "ename": "Interpreter Error",
     "evalue": "",
     "output_type": "error",
     "traceback": [
      "Interpreter Error: "
     ]
    }
   ],
   "source": [
    "class ProgramConfiguration {\n",
    "public:\n",
    "    Configuration& GetConfiguration() {return configuration_;}\n",
    "    static ProgramConfiguration& GetInstance() {\n",
    "        static ProgramConfiguration instance; // Create an instance\n",
    "        return instance; // Return the only instance\n",
    "    }\n",
    "private:\n",
    "    ProgramConfiguration(); // Default constructor is private\n",
    "    ProgramConfiguration(const ProgramConfiguration& other) = delete; // Do not allow the instance to be copied\n",
    "    ProgramConfiguration(const ProgramConfiguration&& other) = delete; // Do not allow the instance to be moved\n",
    "    ProgramConfiguration& operator=(const ProgramConfiguration &rhs) const = delete; //disallow copy-assignment operator\n",
    "    ProgramConfiguration& operator=(const ProgramConfiguration &&rhs) const = delete; //disallow move-assignment operator\n",
    "    ~ProgramConfiguration() {} // Private destructor controls who can destroy the object\n",
    "    Configuration configuration_;\n",
    "};"
   ]
  },
  {
   "cell_type": "code",
   "execution_count": 23,
   "metadata": {},
   "outputs": [
    {
     "name": "stderr",
     "output_type": "stream",
     "text": [
      "input_line_29:1:66: error: expected '{' or ','\n",
      "ProgramConfiguration::ProgramConfiguration() : configuration_ {} void __cling_Un1Qu315(void* vpClingValue) {\n",
      "                                                                 ^\n",
      "In file included from input_line_5:1:\n",
      "In file included from /srv/conda/envs/notebook/include/xeus/xinterpreter.hpp:17:\n",
      "In file included from /srv/conda/envs/notebook/include/xeus/xcomm.hpp:19:\n",
      "In file included from /srv/conda/envs/notebook/include/nlohmann/json.hpp:45:\n",
      "In file included from /srv/conda/envs/notebook/bin/../lib/gcc/x86_64-conda_cos6-linux-gnu/7.3.0/../../../../x86_64-conda_cos6-linux-gnu/include/c++/7.3.0/memory:80:\n",
      "/srv/conda/envs/notebook/bin/../lib/gcc/x86_64-conda_cos6-linux-gnu/7.3.0/../../../../x86_64-conda_cos6-linux-gnu/include/c++/7.3.0/bits/unique_ptr.h:825:34: error: no matching constructor for initialization of 'std::basic_ifstream<char>'\n",
      "    { return unique_ptr<_Tp>(new _Tp(std::forward<_Args>(__args)...)); }\n",
      "                                 ^   ~~~~~~~~~~~~~~~~~~~~~~~~~~~\n",
      "input_line_29:4:38: note: in instantiation of function template specialization 'std::make_unique<std::basic_ifstream<char>, std::__cxx11::basic_string<char> &>' requested here\n",
      "    configuration_.input_file = std::make_unique<std::ifstream>(filename);\n",
      "                                     ^\n",
      "/srv/conda/envs/notebook/bin/../lib/gcc/x86_64-conda_cos6-linux-gnu/7.3.0/../../../../x86_64-conda_cos6-linux-gnu/include/c++/7.3.0/fstream:495:7: note: candidate constructor not viable: no known conversion from 'std::__cxx11::basic_string<char>' to 'const char *' for 1st argument\n",
      "      basic_ifstream(const char* __s, ios_base::openmode __mode = ios_base::in)\n",
      "      ^\n",
      "/srv/conda/envs/notebook/bin/../lib/gcc/x86_64-conda_cos6-linux-gnu/7.3.0/../../../../x86_64-conda_cos6-linux-gnu/include/c++/7.3.0/fstream:519:7: note: candidate constructor not viable: no known conversion from 'std::__cxx11::basic_string<char>' to 'const std::basic_ifstream<char>' for 1st argument\n",
      "      basic_ifstream(const basic_ifstream&) = delete;\n",
      "      ^\n",
      "/srv/conda/envs/notebook/bin/../lib/gcc/x86_64-conda_cos6-linux-gnu/7.3.0/../../../../x86_64-conda_cos6-linux-gnu/include/c++/7.3.0/fstream:521:7: note: candidate constructor not viable: no known conversion from 'std::__cxx11::basic_string<char>' to 'std::basic_ifstream<char>' for 1st argument\n",
      "      basic_ifstream(basic_ifstream&& __rhs)\n",
      "      ^\n",
      "/srv/conda/envs/notebook/bin/../lib/gcc/x86_64-conda_cos6-linux-gnu/7.3.0/../../../../x86_64-conda_cos6-linux-gnu/include/c++/7.3.0/fstream:481:7: note: candidate constructor not viable: requires 0 arguments, but 1 was provided\n",
      "      basic_ifstream() : __istream_type(), _M_filebuf()\n",
      "      ^\n"
     ]
    },
    {
     "ename": "Interpreter Error",
     "evalue": "",
     "output_type": "error",
     "traceback": [
      "Interpreter Error: "
     ]
    }
   ],
   "source": [
    "ProgramConfiguration::ProgramConfiguration() : configuration_ {} {\n",
    "    std::string filename {\"_config.yml\"}; // Load this from a configuration file, for example.\n",
    "    configuration_.input_file = std::make_unique<std::ifstream>(filename);\n",
    "}"
   ]
  },
  {
   "cell_type": "markdown",
   "metadata": {},
   "source": [
    "### Factory"
   ]
  },
  {
   "cell_type": "code",
   "execution_count": null,
   "metadata": {},
   "outputs": [],
   "source": []
  }
 ],
 "metadata": {
  "kernelspec": {
   "display_name": "C++14",
   "language": "C++14",
   "name": "xcpp14"
  },
  "language_info": {
   "codemirror_mode": "text/x-c++src",
   "file_extension": ".cpp",
   "mimetype": "text/x-c++src",
   "name": "c++",
   "version": "14"
  }
 },
 "nbformat": 4,
 "nbformat_minor": 4
}
