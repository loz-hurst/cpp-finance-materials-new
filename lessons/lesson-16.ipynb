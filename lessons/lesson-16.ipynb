{
 "cells": [
  {
   "cell_type": "markdown",
   "metadata": {},
   "source": [
    "# Lesson 16 - Templates"
   ]
  },
  {
   "cell_type": "code",
   "execution_count": null,
   "metadata": {},
   "outputs": [],
   "source": [
    "#include <iostream>\n",
    "#include <iomanip>\n",
    "#include <string>\n",
    "#include <vector>\n",
    "#include <array>"
   ]
  },
  {
   "cell_type": "markdown",
   "metadata": {},
   "source": [
    "We know we can overload functions, based on their types or numbers of arguments:"
   ]
  },
  {
   "cell_type": "code",
   "execution_count": null,
   "metadata": {},
   "outputs": [],
   "source": [
    "// Returns the largest integer of the two arguments\n",
    "int Max (const int a, const int b) {\n",
    "    return (a < b) ? b : a; // Return the larger value\n",
    "}"
   ]
  },
  {
   "cell_type": "code",
   "execution_count": null,
   "metadata": {},
   "outputs": [],
   "source": [
    "// Returns the largest double of the two arguments\n",
    "double Max (const double a, const double b) {\n",
    "    return (a < b) ? b : a; // Return the larger value\n",
    "}"
   ]
  },
  {
   "cell_type": "markdown",
   "metadata": {},
   "source": [
    "However, both of these functions provide the same very generic utility that can be equally applied to any type that supports the `<` operator.  What if there were a way to say \"this is a template for a function that can be used with (almost) any type\" - well that's where templates come in:"
   ]
  },
  {
   "cell_type": "code",
   "execution_count": null,
   "metadata": {},
   "outputs": [],
   "source": [
    "template <typename T> T Max(const T& a, const T& b) {\n",
    "    return (a < b) ? b : a; // Return the larger 'T'\n",
    "}"
   ]
  },
  {
   "cell_type": "code",
   "execution_count": null,
   "metadata": {},
   "outputs": [],
   "source": [
    "std::cout << Max<std::string>(\"a\", \"b\") << std::endl;"
   ]
  },
  {
   "cell_type": "markdown",
   "metadata": {},
   "source": [
    "(note that we have switched to by-reference parameters (as they may be \"big\" types) and have manually specified the template - we don't always have to do this, as we shall see...)"
   ]
  },
  {
   "cell_type": "markdown",
   "metadata": {},
   "source": [
    "We can use the template type in other places, such as this example summing all of the values in a vector (which will work for any type T that supports the `+=` operator):"
   ]
  },
  {
   "cell_type": "code",
   "execution_count": null,
   "metadata": {},
   "outputs": [],
   "source": [
    "template <typename T> T Sum(const std::vector<T>& vec) {\n",
    "    T result {}; // Initialise to nothing\n",
    "    for(const T& elem : vec) {\n",
    "        result += elem;\n",
    "    }\n",
    "    return result;\n",
    "}"
   ]
  },
  {
   "cell_type": "code",
   "execution_count": null,
   "metadata": {},
   "outputs": [],
   "source": [
    "// Should be 45: 9+8=17 +7=24 +6=30 +5=35 +4=39 +3=42 +2=44 +1=45\n",
    "std::cout << Sum(std::vector<int> {1, 2, 3, 4, 5, 6, 7, 8, 9}) << std::endl;"
   ]
  },
  {
   "cell_type": "markdown",
   "metadata": {},
   "source": [
    "We can specify many template parameters:"
   ]
  },
  {
   "cell_type": "code",
   "execution_count": null,
   "metadata": {},
   "outputs": [],
   "source": [
    "template <typename T, typename U> size_t LongestLength (\n",
    "    const std::vector<T>& vec1, const std::vector<U>& vec2\n",
    ") {\n",
    "    return (vec1.size() < vec2.size()) ? vec2.size() : vec1.size();\n",
    "}"
   ]
  },
  {
   "cell_type": "code",
   "execution_count": null,
   "metadata": {},
   "outputs": [],
   "source": [
    "std::cout << LongestLength(\n",
    "    std::vector<int> {9, 8, 7, 6, 5, 4, 3, 2, 1},\n",
    "    std::vector<std::string> {\n",
    "        \"aardvark\",\n",
    "        \"bee\",\n",
    "        \"card\",\n",
    "        \"delta\",\n",
    "        \"elephant\",\n",
    "        \"fox\"\n",
    "    }\n",
    ") << std::endl;"
   ]
  },
  {
   "cell_type": "markdown",
   "metadata": {},
   "source": [
    "Template parameters are resolved at compile time, function parameters at runtime."
   ]
  },
  {
   "cell_type": "markdown",
   "metadata": {},
   "source": [
    "## Type resolution"
   ]
  },
  {
   "cell_type": "markdown",
   "metadata": {},
   "source": [
    "Can be 1 of 3 types:\n",
    "\n",
    "+ implicit\n",
    "+ explicit\n",
    "+ default"
   ]
  },
  {
   "cell_type": "code",
   "execution_count": null,
   "metadata": {},
   "outputs": [],
   "source": [
    "template <typename T=int> T MyFunc(const T& arg) { return arg+1.0;}"
   ]
  },
  {
   "cell_type": "code",
   "execution_count": null,
   "metadata": {},
   "outputs": [],
   "source": [
    "std::cout << sizeof(MyFunc(2)) << std::endl; // implicit"
   ]
  },
  {
   "cell_type": "code",
   "execution_count": null,
   "metadata": {},
   "outputs": [],
   "source": [
    "std::cout << sizeof(MyFunc<double>(2)) << std::endl; // Explicit"
   ]
  },
  {
   "cell_type": "code",
   "execution_count": null,
   "metadata": {},
   "outputs": [],
   "source": [
    "std::cout << sizeof(MyFunc<>(2)) << std::endl; // default"
   ]
  },
  {
   "cell_type": "markdown",
   "metadata": {},
   "source": [
    "## Non-type parameters"
   ]
  },
  {
   "cell_type": "markdown",
   "metadata": {},
   "source": [
    "As we have seen with `std::array`, template parameters do not have to be type names - some other values are accepted such as int, enum and bool."
   ]
  },
  {
   "cell_type": "code",
   "execution_count": null,
   "metadata": {},
   "outputs": [],
   "source": [
    "template <typename T, int COUNT> void MyPrinter(const T& item) {\n",
    "    for (int i {0}; i < COUNT; ++i) {\n",
    "        std::cout << item << std::endl;\n",
    "    }\n",
    "}"
   ]
  },
  {
   "cell_type": "code",
   "execution_count": null,
   "metadata": {},
   "outputs": [],
   "source": [
    "MyPrinter<std::string, 5>(\"Hello\");"
   ]
  },
  {
   "cell_type": "markdown",
   "metadata": {},
   "source": [
    "## Template specialisation"
   ]
  },
  {
   "cell_type": "markdown",
   "metadata": {},
   "source": [
    "We can provide type-specific versions of a template function, provided the generic version has been defined:"
   ]
  },
  {
   "cell_type": "code",
   "execution_count": null,
   "metadata": {},
   "outputs": [],
   "source": [
    "template <> bool Max(const bool& a, const bool& b) {\n",
    "    std::cout << \"bool max specialisation\" << std::endl;\n",
    "    return a || b; // Return the larger 'T'\n",
    "}"
   ]
  },
  {
   "cell_type": "code",
   "execution_count": null,
   "metadata": {},
   "outputs": [],
   "source": [
    "std::cout << Max(2, 3) << std::endl;"
   ]
  },
  {
   "cell_type": "code",
   "execution_count": null,
   "metadata": {},
   "outputs": [],
   "source": [
    "std::cout << std::boolalpha << Max(true, false) << std::endl;"
   ]
  },
  {
   "cell_type": "markdown",
   "metadata": {},
   "source": [
    "## Template overloading"
   ]
  },
  {
   "cell_type": "markdown",
   "metadata": {},
   "source": [
    "This works more or less the same as function overloading:"
   ]
  },
  {
   "cell_type": "code",
   "execution_count": null,
   "metadata": {},
   "outputs": [],
   "source": [
    "template <typename T> T Sum(const T& arg1, const T& arg2) {\n",
    "    T result {arg1}; // Initialise to arg1\n",
    "    result += arg2;\n",
    "    return result;\n",
    "}"
   ]
  },
  {
   "cell_type": "code",
   "execution_count": null,
   "metadata": {},
   "outputs": [],
   "source": [
    "std::cout << Sum(std::vector<int> {1, 2}) << std::endl;"
   ]
  },
  {
   "cell_type": "code",
   "execution_count": null,
   "metadata": {},
   "outputs": [],
   "source": [
    "std::cout << Sum(1, 2) << std::endl;"
   ]
  },
  {
   "cell_type": "markdown",
   "metadata": {},
   "source": [
    "## Class templates"
   ]
  },
  {
   "cell_type": "markdown",
   "metadata": {},
   "source": [
    "These are very similar to function templates, just at the class level:"
   ]
  },
  {
   "cell_type": "code",
   "execution_count": null,
   "metadata": {},
   "outputs": [],
   "source": [
    "template <typename T> class MyClass {\n",
    "private:\n",
    "    T my_member_;\n",
    "public:\n",
    "    MyClass(const T& initial_value) : my_member_{initial_value} {}\n",
    "    T GetMember() const {return my_member_;}\n",
    "};"
   ]
  },
  {
   "cell_type": "markdown",
   "metadata": {},
   "source": [
    "Instantiating a template class requires explicit specification of the template values:"
   ]
  },
  {
   "cell_type": "code",
   "execution_count": null,
   "metadata": {},
   "outputs": [],
   "source": [
    "MyClass<int> my_cls_1 {0};"
   ]
  },
  {
   "cell_type": "code",
   "execution_count": null,
   "metadata": {},
   "outputs": [],
   "source": [
    "MyClass<std::string> my_cls_2 {\"Hi\"};"
   ]
  },
  {
   "cell_type": "code",
   "execution_count": null,
   "metadata": {},
   "outputs": [],
   "source": [
    "std::cout << my_cls_1.GetMember() << ' ' << my_cls_2.GetMember() << std::endl;"
   ]
  },
  {
   "cell_type": "code",
   "execution_count": null,
   "metadata": {},
   "outputs": [],
   "source": [
    "my_cls_1.GetMember() + my_cls_2.GetMember();"
   ]
  },
  {
   "cell_type": "markdown",
   "metadata": {},
   "source": [
    "## Final notes"
   ]
  },
  {
   "cell_type": "markdown",
   "metadata": {},
   "source": [
    "Remember templates go into the header - the compiler generates a new implementation each time it is called (the linker knows of templates and is intelligent enough to only allow one generated implementation to end up in the final program)."
   ]
  },
  {
   "cell_type": "markdown",
   "metadata": {},
   "source": [
    "Specilisation of classes requires duplicating the entire class for the specialised version:"
   ]
  },
  {
   "cell_type": "code",
   "execution_count": null,
   "metadata": {},
   "outputs": [],
   "source": [
    "template <> class MyClass<bool> {\n",
    "private:\n",
    "    bool my_member_;\n",
    "public:\n",
    "    MyClass(const bool& initial_value) : my_member_{initial_value} {}\n",
    "    bool GetMember() const {return my_member_;}\n",
    "};"
   ]
  }
 ],
 "metadata": {
  "kernelspec": {
   "display_name": "C++14",
   "language": "C++14",
   "name": "xcpp14"
  },
  "language_info": {
   "codemirror_mode": "text/x-c++src",
   "file_extension": ".cpp",
   "mimetype": "text/x-c++src",
   "name": "c++",
   "version": "14"
  }
 },
 "nbformat": 4,
 "nbformat_minor": 4
}
